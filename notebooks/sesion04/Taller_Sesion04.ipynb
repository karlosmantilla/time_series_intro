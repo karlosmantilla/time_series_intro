{
 "cells": [
  {
   "cell_type": "markdown",
   "metadata": {},
   "source": [
    "<center>\n",
    "    <h1><font size=\"16\">Especialización en Estadística</font></h1>\n",
    "    <h1><font size=\"12\">SERIES DE TIEMPO</font></h1>\n",
    "</center>"
   ]
  },
  {
   "cell_type": "markdown",
   "metadata": {},
   "source": [
    "## 🎓 Taller Práctico – Modelos Avanzados para Series Temporales: Estado Espacial, Redes Neuronales y GAMs\n",
    "\n",
    "### 📘 **Introducción**\n",
    "\n",
    "En este taller exploraremos **modelos avanzados aplicados a series temporales**, poniendo énfasis en aquellos que permiten capturar patrones complejos como **tendencia, estacionalidad no lineal y dinámicas estructurales latentes**. A diferencia de enfoques clásicos como ARIMA, estos modelos ofrecen mayor flexibilidad para representar la evolución temporal de un fenómeno y generar pronósticos informados.\n",
    "\n",
    "Nos centraremos en tres tipos de modelos:\n",
    "\n",
    "1. **Modelos de Estado Espacial**: permiten descomponer la serie en componentes latentes (nivel, pendiente, estacionalidad) y realizar pronósticos robustos mediante el filtro de Kalman.\n",
    "2. **Redes Neuronales**: ofrecen una aproximación no paramétrica para capturar relaciones no lineales a partir de rezagos temporales, incluyendo modelos autoregresivos y recurrentes.\n",
    "3. **Modelos Aditivos Generalizados (GAMs)**: permiten modelar suavizadamente los efectos del tiempo y la estacionalidad mediante funciones spline, con alta interpretabilidad estructural.\n",
    "\n",
    "> 🧠 Este taller no se centra en la construcción desde cero de los modelos, sino en **analizar, interpretar y comparar los resultados obtenidos**, incluyendo su descomposición, visualización y capacidad predictiva.\n",
    "\n",
    "---\n",
    "\n",
    "### 🎯 **Objetivos del Taller**\n",
    "\n",
    "* Analizar e interpretar los componentes latentes estimados por modelos de estado espacial.\n",
    "* Comparar la capacidad predictiva de distintos enfoques neuronales aplicados a una misma serie.\n",
    "* Evaluar la descomposición y ajuste realizado por un modelo GAM en términos de tendencia y estacionalidad.\n",
    "* Visualizar y comunicar de forma efectiva los resultados de cada modelo y su aplicabilidad en contextos reales.\n",
    "\n",
    "---\n",
    "\n",
    "### 🧰 **Requisitos Previos**"
   ]
  },
  {
   "cell_type": "code",
   "execution_count": null,
   "metadata": {},
   "outputs": [],
   "source": [
    "library(KFAS)      # Modelos de estado espacial y filtro de Kalman con estructura flexible.\n",
    "library(dlm)       # Alternativa para modelos de estado espacial con enfoque bayesiano/clásico.\n",
    "library(mgcv)      # Modelos Aditivos Generalizados (GAMs) con funciones suavizadas tipo spline.\n",
    "\n",
    "library(tsDyn)     # Modelos autoregresivos no lineales con redes neuronales (`nnetTs`).\n",
    "library(nnet)      # Redes neuronales clásicas (perceptrones multicapa).\n",
    "library(RSNNS)     # Implementación de redes neuronales recurrentes (Elman, Jordan) y avanzadas.\n",
    "library(caret)     # Framework unificado para entrenamiento y validación de modelos (incluye redes neuronales).\n",
    "\n",
    "library(fpp3)      # Framework moderno para análisis de series temporales con `tsibble`, `fable` y `ggplot2`.\n",
    "library(forecast)  # Modelos clásicos de pronóstico y funciones auxiliares (`nnetar`, `forecast`, `accuracy`).\n",
    "library(ggplot2)   # Visualización de series, componentes suavizados y pronósticos.\n",
    "library(zoo)       # Manipulación de series temporales indexadas y conversión a `yearmon`.\n",
    "library(lubridate) # Extracción y manejo de componentes temporales (año, mes).\n",
    "library(tibble)    # Estructura moderna de data frames para flujos `tidy`.\n",
    "library(dplyr)     # Manipulación eficiente y legible de datos (`mutate`, `filter`, `join`, etc.)."
   ]
  },
  {
   "cell_type": "markdown",
   "metadata": {},
   "source": [
    "### 📥 1. Carga y transformación de datos\n",
    "\n",
    "Trabajaremos con la serie mensual de pasajeros aéreos internacionales (`AirPassengers`), incluida por defecto en R. Esta serie contiene 144 observaciones mensuales desde enero de 1949 hasta diciembre de 1960."
   ]
  },
  {
   "cell_type": "code",
   "execution_count": null,
   "metadata": {},
   "outputs": [],
   "source": [
    "# Cargar la serie\n",
    "data(\"AirPassengers\")\n",
    "ap <- AirPassengers"
   ]
  },
  {
   "cell_type": "markdown",
   "metadata": {},
   "source": [
    "🔍 **Descripción**:\n",
    "\n",
    "* La serie representa el número de pasajeros (en miles) que viajaron por avión cada mes.\n",
    "* Se trata de una serie **no estacionaria**, tanto en media como en varianza.\n",
    "\n",
    "---\n",
    "\n",
    "#### 🔄 Transformación logarítmica\n",
    "\n",
    "Aplicamos la transformación logarítmica para **estabilizar la varianza** y facilitar la interpretación en algunos modelos, como los de estado espacial, redes neuronales y GAMs.\n"
   ]
  },
  {
   "cell_type": "code",
   "execution_count": null,
   "metadata": {},
   "outputs": [],
   "source": [
    "# Transformar a logaritmo natural\n",
    "log_ap <- log(ap)"
   ]
  },
  {
   "cell_type": "markdown",
   "metadata": {},
   "source": [
    "> 🧠 Esta transformación convierte los incrementos relativos en incrementos absolutos y suaviza la amplitud creciente de la estacionalidad.\n",
    "\n",
    "### 🧱 **2. Definición del modelo de estado espacial estructural**\n",
    "\n",
    "Iniciaremos con la construcción de un **modelo estructural clásico** que descompone la serie en dos componentes principales:\n",
    "\n",
    "1. Una **tendencia local** con nivel y pendiente.\n",
    "2. Una **estacionalidad mensual** representada mediante variables dummy.\n",
    "\n",
    "Trabajamos sobre la serie en escala logarítmica, por lo que los efectos **multiplicativos se vuelven aditivos** en el modelo."
   ]
  },
  {
   "cell_type": "code",
   "execution_count": null,
   "metadata": {},
   "outputs": [],
   "source": [
    "# Modelo estructural: tendencia local + estacionalidad\n",
    "modelo_ss <- SSModel(log_ap ~ \n",
    "                       SSMtrend(degree = 2, Q = list(matrix(NA), matrix(NA))) +\n",
    "                       SSMseasonal(period = 12, sea.type = \"dummy\", Q = matrix(NA)),\n",
    "                     H = matrix(NA))"
   ]
  },
  {
   "cell_type": "markdown",
   "metadata": {},
   "source": [
    "#### 🧠 Explicación de los componentes\n",
    "\n",
    "| Componente                        | Descripción                                                                                                           |\n",
    "| :-------------------------------- | :-------------------------------------------------------------------------------------------------------------------- |\n",
    "| `SSMtrend(degree = 2)`            | Modelo de **tendencia local lineal**, con dos estados: `nivel` y `pendiente`.                                         |\n",
    "| `SSMseasonal(period = 12, dummy)` | Modelo de **estacionalidad mensual** con 11 variables dummy (meses).                                                  |\n",
    "| `Q = list(...)`                   | Matriz de varianzas de los errores de estado (nivel, pendiente, estacionalidad). Se estiman por máxima verosimilitud. |\n",
    "| `H = matrix(NA)`                  | Varianza del error de observación (ruido blanco). También estimada.                                                   |\n",
    "\n",
    "---\n",
    "\n",
    "> 📌 Este modelo es completamente **probabilístico y dinámico**, y permite analizar cómo evolucionan separadamente el nivel de la serie y la estacionalidad mes a mes.\n",
    "\n",
    "### 🧮 **3. Estimación del modelo y aplicación del Filtro de Kalman**\n",
    "\n",
    "Una vez definido el modelo estructural, el siguiente paso es **estimar los parámetros desconocidos** (las varianzas en $Q$ y $H$) mediante **máxima verosimilitud**, y luego aplicar el **Filtro de Kalman** para obtener los valores suavizados de los componentes latentes.\n",
    "\n",
    "---\n",
    "\n",
    "#### 🔢 Estimación de parámetros\n"
   ]
  },
  {
   "cell_type": "code",
   "execution_count": null,
   "metadata": {},
   "outputs": [],
   "source": [
    "# Valores iniciales (en log-escala) para las varianzas:\n",
    "# Orden: H (observación), Q1 (nivel), Q2 (pendiente), Q3 (estacionalidad)\n",
    "iniciales <- log(c(0.01, 0.001, 0.001, 0.01))\n",
    "\n",
    "# Estimación con método de optimización BFGS\n",
    "fit <- fitSSM(modelo_ss, inits = iniciales, method = \"BFGS\")\n",
    "\n",
    "# Extraer modelo ajustado con parámetros estimados\n",
    "modelo_ajustado <- fit$model\n",
    "\n",
    "# Visualizar resumen del modelo ajustado\n",
    "modelo_ajustado\n"
   ]
  },
  {
   "cell_type": "markdown",
   "metadata": {},
   "source": [
    "#### 📌 Explicación\n",
    "\n",
    "* `fitSSM()` realiza la optimización de la verosimilitud para estimar los parámetros libres (valores `NA` en Q y H).\n",
    "* Se usa el método **BFGS**, eficiente para problemas diferenciables.\n",
    "* `modelo_ajustado` contiene ya los valores estimados y está listo para aplicar el **Filtro de Kalman**.\n",
    "\n",
    "---\n",
    "\n",
    "#### 🚦 Aplicar Filtro de Kalman + suavizado\n"
   ]
  },
  {
   "cell_type": "code",
   "execution_count": null,
   "metadata": {},
   "outputs": [],
   "source": [
    "# Aplicar filtro de Kalman y suavizado de estados\n",
    "kfs <- KFS(modelo_ajustado, smoothing = c(\"state\", \"signal\"))\n",
    "\n",
    "# Inspeccionar resumen del objeto\n",
    "kfs"
   ]
  },
  {
   "cell_type": "markdown",
   "metadata": {},
   "source": [
    "#### 🔍 ¿Qué contiene `kfs`?\n",
    "\n",
    "* `kfs$alphahat`: valores suavizados de los **estados latentes** (nivel, pendiente, estacionalidad).\n",
    "* `kfs$muhat`: serie suavizada reconstruida a partir de los componentes estimados.\n",
    "* `kfs$V`: varianza de predicción.\n",
    "* `kfs$v`: residuos de predicción.\n",
    "\n",
    "Estos resultados se usarán en los pasos siguientes para **visualizar la tendencia, la estacionalidad y realizar pronósticos**.\n",
    "\n",
    "### 💬 Preguntas\n",
    "\n",
    "1. ¿Qué representa cada uno de los componentes del modelo de estado espacial (nivel, pendiente, estacionalidad)?\n",
    "2. ¿Qué ventaja tiene representar la estacionalidad mediante variables dummy frente a usar funciones senoidales o splines?\n",
    "3. ¿Qué nos dice el comportamiento del componente estacional sobre los ciclos anuales en la serie?\n",
    "4. ¿Qué diferencia habría si usáramos una estacionalidad `bs = \"cc\"` con splines cíclicos como en GAMs?\n",
    "\n",
    "---\n",
    "\n",
    "### 📊 **4. Visualización de componentes suavizados**\n",
    "\n",
    "Después de aplicar el filtro y suavizado de Kalman, es posible **descomponer la serie observada** en sus componentes latentes estimados: **nivel**, **pendiente** y **estacionalidad**.\n",
    "\n",
    "En esta sección, visualizaremos cómo se comporta la **tendencia suavizada** en comparación con la serie original transformada.\n",
    "\n",
    "---\n",
    "\n",
    "#### 🔁 Preparar los datos para graficar\n"
   ]
  },
  {
   "cell_type": "code",
   "execution_count": null,
   "metadata": {},
   "outputs": [],
   "source": [
    "# Crear un objeto ts con los componentes del modelo\n",
    "ts_comp <- ts(cbind(\n",
    "  Observado = log_ap,\n",
    "  Tendencia = kfs$muhat,\n",
    "  Nivel = kfs$alphahat[, \"level\"],\n",
    "  Pendiente = kfs$alphahat[, \"slope\"],\n",
    "  Estacionalidad = kfs$alphahat[, grepl(\"sea\", colnames(kfs$alphahat))]\n",
    "), start = start(log_ap), frequency = frequency(log_ap))\n"
   ]
  },
  {
   "cell_type": "markdown",
   "metadata": {},
   "source": [
    "🔍 Aquí estamos construyendo una serie multivariada `ts` con:\n",
    "\n",
    "* La serie observada (`log_ap`).\n",
    "* La serie suavizada completa (`muhat`), que incluye todos los componentes.\n",
    "* Los estados individuales: `nivel`, `pendiente`, y la **suma de efectos estacionales** (`sea_dummy1`, ..., `sea_dummy11`).\n",
    "\n",
    "---\n",
    "\n",
    "#### 📆 Construir un data frame con fechas\n"
   ]
  },
  {
   "cell_type": "code",
   "execution_count": null,
   "metadata": {},
   "outputs": [],
   "source": [
    "library(zoo)\n",
    "library(lubridate)\n",
    "library(ggplot2)\n",
    "\n",
    "# Extraer fechas a partir del índice de tiempo\n",
    "fechas <- as.yearmon(time(ts_comp))\n",
    "\n",
    "# Crear data.frame con observaciones y tendencia\n",
    "df_comp <- data.frame(\n",
    "  Fecha = as.Date(fechas),\n",
    "  Observado = as.numeric(ts_comp[, \"Observado\"]),\n",
    "  Tendencia = as.numeric(ts_comp[, \"Tendencia\"])\n",
    ")\n"
   ]
  },
  {
   "cell_type": "markdown",
   "metadata": {},
   "source": [
    "#### 📈 Graficar la tendencia suavizada\n"
   ]
  },
  {
   "cell_type": "code",
   "execution_count": null,
   "metadata": {},
   "outputs": [],
   "source": [
    "ggplot(df_comp, aes(x = Fecha)) +\n",
    "  geom_line(aes(y = Observado), color = \"black\", linewidth = 0.8) +\n",
    "  geom_line(aes(y = Tendencia), color = \"blue\", linewidth = 0.8, linetype = \"dashed\") +\n",
    "  labs(title = \"Observado vs Tendencia (modelo de estado espacial)\",\n",
    "       y = \"log(Pasajeros)\", x = \"Fecha\") +\n",
    "  theme_minimal()\n"
   ]
  },
  {
   "cell_type": "markdown",
   "metadata": {},
   "source": [
    "### ✅ ¿Qué esperamos ver?\n",
    "\n",
    "* La **línea negra** representa la serie log-transformada observada.\n",
    "* La **línea azul discontinua** es la tendencia suavizada estimada por el modelo.\n",
    "* Se espera que la tendencia siga el movimiento de fondo de la serie, **ignorando la estacionalidad** y el ruido aleatorio.\n",
    "\n",
    "> 📌 Esta descomposición permite **interpretar el comportamiento subyacente** de la serie, separado de los efectos cíclicos y de corto plazo.\n",
    "\n",
    "### 📊 **5. Visualización del componente estacional**\n",
    "\n",
    "Una de las ventajas clave de los modelos de estado espacial es su capacidad para estimar la **componente estacional de forma separada y dinámica**, lo que permite analizar su comportamiento a lo largo del tiempo.\n",
    "\n",
    "---\n",
    "\n",
    "#### 🧮 Extracción de la estacionalidad\n"
   ]
  },
  {
   "cell_type": "code",
   "execution_count": null,
   "metadata": {},
   "outputs": [],
   "source": [
    "# 1. Sumar los 11 efectos estacionales (uno por cada dummy)\n",
    "estacionalidad_total <- rowSums(kfs$alphahat[, grepl(\"sea_dummy\", colnames(kfs$alphahat))])"
   ]
  },
  {
   "cell_type": "markdown",
   "metadata": {},
   "source": [
    "🔍 Cada fila de `kfs$alphahat` contiene los valores suavizados de los estados latentes. Al sumar los efectos `sea_dummy1` a `sea_dummy11`, se reconstruye la estacionalidad total en cada punto del tiempo.\n",
    "\n",
    "---\n",
    "\n",
    "#### 🧾 Construcción de la serie temporal\n"
   ]
  },
  {
   "cell_type": "code",
   "execution_count": null,
   "metadata": {},
   "outputs": [],
   "source": [
    "# 2. Convertir a serie ts con la misma estructura que log_ap\n",
    "ts_estacionalidad <- ts(estacionalidad_total, start = start(log_ap), frequency = frequency(log_ap))"
   ]
  },
  {
   "cell_type": "markdown",
   "metadata": {},
   "source": [
    "#### 📆 Conversión a data.frame para graficar\n"
   ]
  },
  {
   "cell_type": "code",
   "execution_count": null,
   "metadata": {},
   "outputs": [],
   "source": [
    "# 3. Crear data.frame con fechas y valores estacionales\n",
    "df_est <- data.frame(\n",
    "  Fecha = as.Date(as.yearmon(time(ts_estacionalidad))),\n",
    "  Estacionalidad = as.numeric(ts_estacionalidad)\n",
    ")"
   ]
  },
  {
   "cell_type": "markdown",
   "metadata": {},
   "source": [
    "#### 📈 Graficar la estacionalidad suavizada\n"
   ]
  },
  {
   "cell_type": "code",
   "execution_count": null,
   "metadata": {},
   "outputs": [],
   "source": [
    "# 4. Visualización\n",
    "ggplot(df_est, aes(x = Fecha, y = Estacionalidad)) +\n",
    "  geom_line(color = \"darkgreen\", linewidth = 0.8) +\n",
    "  labs(title = \"Componente Estacional Suavizado (Modelo de Estado Espacial)\",\n",
    "       x = \"Fecha\", y = \"Estacionalidad\") +\n",
    "  theme_minimal()"
   ]
  },
  {
   "cell_type": "markdown",
   "metadata": {},
   "source": [
    "### ✅ Interpretación esperada\n",
    "\n",
    "* El gráfico muestra cómo varía la estacionalidad mes a mes a lo largo del tiempo.\n",
    "* Se espera observar un patrón **cíclico repetitivo**, con meses consistentemente positivos (por ejemplo, junio–agosto) y otros negativos (enero, noviembre, etc.).\n",
    "* La estacionalidad suavizada puede variar ligeramente entre años, permitiendo capturar **dinámicas estacionales no estrictamente constantes**.\n",
    "\n",
    "> 🧠 Este tipo de representación es útil para **detectar cambios sutiles en la estructura estacional** a lo largo del tiempo.\n",
    "\n",
    "### 📈 **6. Generación de pronósticos con modelo de estado espacial**\n",
    "\n",
    "Una vez ajustado el modelo e interpretados los componentes latentes, es posible generar **pronósticos fuera de muestra** y sus respectivos **intervalos de predicción**. Esto se realiza fácilmente gracias a la estructura probabilística del modelo.\n",
    "\n",
    "---\n",
    "\n",
    "#### 🔮 Generar pronóstico a 24 meses\n",
    "\n"
   ]
  },
  {
   "cell_type": "code",
   "execution_count": null,
   "metadata": {},
   "outputs": [],
   "source": [
    "# Predicción en escala logarítmica (con intervalo del 95%)\n",
    "pred_kfas <- predict(modelo_ajustado, n.ahead = 24, interval = \"prediction\", level = 0.95)\n",
    "\n",
    "# Transformar de log-escala a escala original (pasajeros)\n",
    "pred_exp <- exp(pred_kfas)\n"
   ]
  },
  {
   "cell_type": "markdown",
   "metadata": {},
   "source": [
    "🔍 `predict()` entrega un objeto con tres columnas:\n",
    "\n",
    "* `\"fit\"`: valor pronosticado.\n",
    "* `\"lwr\"` y `\"upr\"`: límites inferior y superior del intervalo de predicción.\n",
    "\n",
    "---\n",
    "\n",
    "#### 🧾 Visualización junto a la serie histórica\n",
    "\n"
   ]
  },
  {
   "cell_type": "code",
   "execution_count": null,
   "metadata": {},
   "outputs": [],
   "source": [
    "# Visualizar pronóstico junto a la serie observada\n",
    "forecast::autoplot(window(ap, end = c(1960, 12))) +\n",
    "  autolayer(ts(pred_exp[, \"fit\"], start = c(1961, 1), frequency = 12), series = \"Pronóstico\") +\n",
    "  autolayer(ts(pred_exp[, \"lwr\"], start = c(1961, 1), frequency = 12), series = \"Límite inferior\", linetype = \"dashed\") +\n",
    "  autolayer(ts(pred_exp[, \"upr\"], start = c(1961, 1), frequency = 12), series = \"Límite superior\", linetype = \"dashed\") +\n",
    "  labs(title = \"Pronóstico con modelo de estado espacial\",\n",
    "       y = \"Pasajeros\", x = \"Año\") +\n",
    "  theme_minimal()\n"
   ]
  },
  {
   "cell_type": "markdown",
   "metadata": {},
   "source": [
    "#### 📤 Visualizar **solo el pronóstico**\n"
   ]
  },
  {
   "cell_type": "code",
   "execution_count": null,
   "metadata": {},
   "outputs": [],
   "source": [
    "# Visualización solo del pronóstico y sus intervalos\n",
    "forecast::autoplot(ts(pred_exp[, \"fit\"], start = c(1961, 1), frequency = 12), series = \"Pronóstico\") +\n",
    "  autolayer(ts(pred_exp[, \"lwr\"], start = c(1961, 1), frequency = 12), series = \"Límite inferior\", linetype = \"dashed\") +\n",
    "  autolayer(ts(pred_exp[, \"upr\"], start = c(1961, 1), frequency = 12), series = \"Límite superior\", linetype = \"dashed\") +\n",
    "  labs(title = \"Pronóstico con modelo de estado espacial\",\n",
    "       y = \"Pasajeros\", x = \"Año\") +\n",
    "  theme_minimal()"
   ]
  },
  {
   "cell_type": "markdown",
   "metadata": {},
   "source": [
    "### ✅ Interpretación esperada\n",
    "\n",
    "* El modelo genera un **pronóstico suavizado** que **respeta la tendencia creciente y la estacionalidad** capturada.\n",
    "* Las **bandas de predicción** reflejan la **incertidumbre creciente** a medida que se avanza en el horizonte.\n",
    "* Este comportamiento es **típico de modelos estructurales** con múltiples componentes latentes.\n",
    "\n",
    "## 🤖 Redes Neuronales aplicadas a Series Temporales\n",
    "\n",
    "Las redes neuronales permiten modelar relaciones no lineales complejas entre los valores pasados de una serie y su comportamiento futuro. Aunque no están diseñadas específicamente para datos secuenciales como los modelos de estado espacial o ARIMA, pueden capturar patrones ocultos útiles para la predicción, especialmente si se utilizan ventanas de entrada (lags) adecuadas.\n",
    "\n",
    "En esta sección trabajaremos con la serie `AirPassengers`, previamente transformada para estabilizar la varianza, y exploraremos diferentes enfoques neuronales para el pronóstico.\n",
    "\n",
    "---\n",
    "\n",
    "### 🔄 **1. Transformación logarítmica y visualización inicial**\n",
    "\n",
    "Antes de aplicar cualquier red neuronal, transformamos la serie a logaritmo natural para facilitar la modelación y evitar predicciones negativas.\n"
   ]
  },
  {
   "cell_type": "code",
   "execution_count": null,
   "metadata": {},
   "outputs": [],
   "source": [
    "# Transformación logarítmica\n",
    "log_ap <- log(AirPassengers)"
   ]
  },
  {
   "cell_type": "markdown",
   "metadata": {},
   "source": [
    "#### 📈 Visualización de la serie transformada"
   ]
  },
  {
   "cell_type": "code",
   "execution_count": null,
   "metadata": {},
   "outputs": [],
   "source": [
    "library(forecast)\n",
    "library(ggplot2)\n",
    "\n",
    "autoplot(log_ap) +\n",
    "  labs(title = \"Serie log-transformada: AirPassengers\",\n",
    "       y = \"log(Pasajeros)\", x = \"Año\") +\n",
    "  theme_minimal()\n"
   ]
  },
  {
   "cell_type": "markdown",
   "metadata": {},
   "source": [
    "### 🧠 ¿Por qué usar el logaritmo?\n",
    "\n",
    "* La transformación suaviza la **amplitud creciente de la estacionalidad**.\n",
    "* Permite que modelos con salida lineal (como `nnet`) trabajen de manera más estable.\n",
    "* Las predicciones en log-escala pueden transformarse de vuelta a escala original con `exp()`.\n",
    "\n",
    "### ⚙️ **2. Modelo autoregresivo neuronal con `nnetar()`**\n",
    "\n",
    "El paquete `forecast` incluye la función `nnetar()`, que ajusta de forma automática una **red neuronal autoregresiva no lineal (NNAR)**. Este modelo combina la flexibilidad de las redes neuronales con la estructura de los modelos AR tradicionales.\n",
    "\n",
    "---\n",
    "\n",
    "#### 🤖 Ajustar el modelo\n"
   ]
  },
  {
   "cell_type": "code",
   "execution_count": null,
   "metadata": {},
   "outputs": [],
   "source": [
    "modelo_nnetar <- nnetar(log_ap)"
   ]
  },
  {
   "cell_type": "markdown",
   "metadata": {},
   "source": [
    "* El modelo se entrena automáticamente seleccionando:\n",
    "\n",
    "  * El número de retardos (lags) a usar.\n",
    "  * La cantidad de neuronas en la capa oculta.\n",
    "  * Si se incluye o no estacionalidad explícita.\n",
    "\n",
    "---\n",
    "\n",
    "#### 🔍 Ver resumen del modelo"
   ]
  },
  {
   "cell_type": "code",
   "execution_count": null,
   "metadata": {},
   "outputs": [],
   "source": [
    "modelo_nnetar"
   ]
  },
  {
   "cell_type": "markdown",
   "metadata": {},
   "source": [
    "> Este comando muestra la arquitectura utilizada (por ejemplo, NNAR(1,1,2)\\[12]) y cuántas redes fueron promediadas para estabilizar el resultado.\n",
    "\n",
    "---\n",
    "\n",
    "#### 🔮 Generar pronóstico a 24 meses"
   ]
  },
  {
   "cell_type": "code",
   "execution_count": null,
   "metadata": {},
   "outputs": [],
   "source": [
    "pron_nnetar <- forecast(modelo_nnetar, h = 24)"
   ]
  },
  {
   "cell_type": "markdown",
   "metadata": {},
   "source": [
    "#### 📈 Visualizar el pronóstico"
   ]
  },
  {
   "cell_type": "code",
   "execution_count": null,
   "metadata": {},
   "outputs": [],
   "source": [
    "autoplot(pron_nnetar) +\n",
    "  labs(title = \"Pronóstico con red neuronal autoregresiva (nnetar)\",\n",
    "       y = \"log(Pasajeros)\", x = \"Año\") +\n",
    "  theme_minimal()"
   ]
  },
  {
   "cell_type": "markdown",
   "metadata": {},
   "source": [
    "### ✅ Interpretación esperada\n",
    "\n",
    "* El modelo genera una **serie suavizada de pronósticos** en log-escala, incluyendo bandas de predicción.\n",
    "* Se espera que la red capture tanto la **tendencia global** como **patrones estacionales**, aunque puede suavizarlos en exceso si la arquitectura es muy simple.\n",
    "\n",
    "> 📌 `nnetar()` es una excelente herramienta para establecer un baseline no lineal, sin necesidad de configurar manualmente la red.\n",
    "\n",
    "### ⚙️ **3. Red neuronal personalizada con `nnet()`**\n",
    "\n",
    "En esta etapa construiremos manualmente una red neuronal para pronóstico utilizando la función `nnet()` del paquete base. A diferencia de `nnetar()`, este enfoque nos permite **definir directamente la estructura de entrada y controlar el entrenamiento** paso a paso.\n",
    "\n",
    "---\n",
    "\n",
    "#### 🧮 Crear matriz de entrada (ventana de 12 lags)"
   ]
  },
  {
   "cell_type": "code",
   "execution_count": null,
   "metadata": {},
   "outputs": [],
   "source": [
    "library(nnet)\n",
    "library(tibble)\n",
    "\n",
    "# Definir número de retardos\n",
    "lags <- 12\n",
    "\n",
    "# Construir matriz con lags + objetivo\n",
    "x <- embed(log_ap, lags + 1)\n",
    "y <- x[, 1]         # valor objetivo\n",
    "X <- x[, -1]        # variables predictoras\n"
   ]
  },
  {
   "cell_type": "markdown",
   "metadata": {},
   "source": [
    "> 📌 `embed()` crea una matriz en la que cada fila contiene los 12 valores anteriores (lagged inputs) y la respuesta.\n",
    "\n",
    "---\n",
    "\n",
    "#### ✂️ Separar conjunto de entrenamiento\n",
    "\n"
   ]
  },
  {
   "cell_type": "code",
   "execution_count": null,
   "metadata": {},
   "outputs": [],
   "source": [
    "# Usamos todos los datos excepto los últimos 24 para entrenar\n",
    "n <- nrow(X)\n",
    "train_idx <- 1:(n - 24)"
   ]
  },
  {
   "cell_type": "markdown",
   "metadata": {},
   "source": [
    "#### 🧠 Ajustar el modelo con `nnet()`"
   ]
  },
  {
   "cell_type": "code",
   "execution_count": null,
   "metadata": {},
   "outputs": [],
   "source": [
    "# Entrenar red neuronal: 12 entradas, 5 neuronas ocultas, salida lineal\n",
    "modelo_nnet <- nnet(X[train_idx, ], y[train_idx],\n",
    "                    size = 5, linout = TRUE, trace = FALSE)\n",
    "\n",
    "# Revisar estructura de la red\n",
    "modelo_nnet"
   ]
  },
  {
   "cell_type": "markdown",
   "metadata": {},
   "source": [
    "### ✅ ¿Qué hace esta red?\n",
    "\n",
    "* **Arquitectura**: 12–5–1 (12 entradas, 5 nodos ocultos, 1 salida).\n",
    "* **Activación**: funciones no lineales en capa oculta, salida lineal (`linout = TRUE`).\n",
    "* Entrenada sobre datos escalados en log-escala, con 24 valores reservados para prueba.\n",
    "* Sin validación cruzada automática, por lo que es **más sensible a sobreajuste**.\n",
    "\n",
    "### 🔮 **4. Pronóstico recursivo con red neuronal personalizada (`nnet`)**\n",
    "\n",
    "Una vez entrenado el modelo con una ventana deslizante de 12 retardos, generamos el pronóstico fuera de muestra **de manera recursiva**, es decir, alimentando el modelo con sus propias predicciones.\n",
    "\n",
    "---\n",
    "\n",
    "#### 🔁 Generar pronóstico a 24 pasos\n"
   ]
  },
  {
   "cell_type": "code",
   "execution_count": null,
   "metadata": {},
   "outputs": [],
   "source": [
    "# Inicializar vector para almacenar predicciones\n",
    "pred <- numeric(24)\n",
    "\n",
    "# Tomar como entrada la última fila disponible del conjunto de entrenamiento\n",
    "input <- X[n - 24, ]\n",
    "\n",
    "# Pronóstico recursivo: una predicción alimenta la siguiente\n",
    "for (i in 1:24) {\n",
    "  pred[i] <- predict(modelo_nnet, matrix(input, nrow = 1))\n",
    "  input <- c(pred[i], head(input, -1))  # actualizar entrada\n",
    "}\n"
   ]
  },
  {
   "cell_type": "markdown",
   "metadata": {},
   "source": [
    "> 📌 Este enfoque simula un escenario real de pronóstico, donde no se conocen los valores futuros verdaderos y el modelo debe apoyarse en sus propias salidas.\n",
    "\n",
    "---\n",
    "\n",
    "#### 🔄 Transformar y organizar resultados\n"
   ]
  },
  {
   "cell_type": "code",
   "execution_count": null,
   "metadata": {},
   "outputs": [],
   "source": [
    "# Volver a escala original (pasajeros)\n",
    "pred_exp <- exp(pred)\n",
    "\n",
    "# Construir fechas de predicción\n",
    "fechas_pred <- seq(as.Date(\"1961-01-01\"), by = \"month\", length.out = 24)\n",
    "\n",
    "# Data frame de predicción\n",
    "df_pred <- data.frame(Fecha = fechas_pred, Pronostico = pred_exp)\n",
    "\n",
    "# Serie histórica\n",
    "df_hist <- data.frame(\n",
    "  Fecha = as.Date(as.yearmon(time(AirPassengers))),\n",
    "  Pasajeros = as.numeric(AirPassengers)\n",
    ")\n"
   ]
  },
  {
   "cell_type": "markdown",
   "metadata": {},
   "source": [
    "#### 📈 Visualización del pronóstico"
   ]
  },
  {
   "cell_type": "code",
   "execution_count": null,
   "metadata": {},
   "outputs": [],
   "source": [
    "library(ggplot2)\n",
    "\n",
    "ggplot() +\n",
    "  geom_line(data = df_hist, aes(x = Fecha, y = Pasajeros), color = \"black\") +\n",
    "  geom_line(data = df_pred, aes(x = Fecha, y = Pronostico), color = \"blue\") +\n",
    "  labs(title = \"Pronóstico con red neuronal simple (`nnet`)\",\n",
    "       y = \"Pasajeros\", x = \"Fecha\") +\n",
    "  theme_minimal()"
   ]
  },
  {
   "cell_type": "markdown",
   "metadata": {},
   "source": [
    "### ✅ ¿Qué observamos?\n",
    "\n",
    "* La red logra continuar el patrón de crecimiento, aunque en general:\n",
    "\n",
    "  * **Subestima la amplitud de la estacionalidad**.\n",
    "  * Puede presentar **explosiones o colapsos** si no está bien regularizada.\n",
    "* Este comportamiento es típico en redes **alimentadas recursivamente sin control de error acumulado**.\n",
    "\n",
    "> ⚠️ Para mejorar este enfoque, se podrían usar técnicas de regularización, validación cruzada o redes con memoria como las recurrentes (`RSNNS`).\n",
    "\n",
    "### 🧪 **5. Red neuronal con validación cruzada (`caret`)**\n",
    "\n",
    "El paquete `caret` permite entrenar redes neuronales con control explícito de validación cruzada para datos temporales. En este caso, usaremos **12 retardos como predictores** y una estrategia de validación tipo *time slice*, adecuada para series temporales.\n",
    "\n",
    "---\n",
    "\n",
    "#### 🧮 Construcción del conjunto de datos\n"
   ]
  },
  {
   "cell_type": "code",
   "execution_count": null,
   "metadata": {},
   "outputs": [],
   "source": [
    "library(caret)\n",
    "\n",
    "# Crear matriz de datos con lags como predictores\n",
    "data_nnet <- as.data.frame(embed(log_ap, 13))\n",
    "colnames(data_nnet) <- c(\"y\", paste0(\"lag\", 1:12))\n",
    "\n",
    "# Conjunto de entrenamiento (excluye los últimos 24 puntos)\n",
    "train_nnet <- data_nnet[1:(nrow(data_nnet) - 24), ]"
   ]
  },
  {
   "cell_type": "markdown",
   "metadata": {},
   "source": [
    "> 📌 Usamos 12 lags como variables independientes, y el valor actual como variable objetivo (`y`).\n",
    "\n",
    "---\n",
    "\n",
    "#### ⚙️ Definir estrategia de validación cruzada\n"
   ]
  },
  {
   "cell_type": "code",
   "execution_count": null,
   "metadata": {},
   "outputs": [],
   "source": [
    "control <- trainControl(\n",
    "  method = \"timeslice\",\n",
    "  initialWindow = 96,\n",
    "  horizon = 12,\n",
    "  fixedWindow = TRUE\n",
    ")"
   ]
  },
  {
   "cell_type": "markdown",
   "metadata": {},
   "source": [
    "* Se utiliza un enfoque tipo **rolling forecasting origin**, que:\n",
    "\n",
    "  * Mantiene una ventana de entrenamiento fija.\n",
    "  * Evalúa el modelo en múltiples puntos del tiempo.\n",
    "  * Es coherente con la estructura temporal de los datos.\n",
    "\n",
    "---\n",
    "\n",
    "#### 🧠 Entrenar la red neuronal\n"
   ]
  },
  {
   "cell_type": "code",
   "execution_count": null,
   "metadata": {},
   "outputs": [],
   "source": [
    "set.seed(123)\n",
    "modelo_caret <- train(\n",
    "  y ~ ., data = train_nnet,\n",
    "  method = \"nnet\",\n",
    "  linout = TRUE,\n",
    "  trace = FALSE,\n",
    "  tuneLength = 5,\n",
    "  trControl = control\n",
    ")\n",
    "\n",
    "modelo_caret"
   ]
  },
  {
   "cell_type": "markdown",
   "metadata": {},
   "source": [
    "* `tuneLength = 5` explora automáticamente combinaciones de:\n",
    "\n",
    "  * Número de neuronas ocultas (`size`).\n",
    "  * Parámetro de regularización (`decay`).\n",
    "* Se selecciona el modelo con menor RMSE en validación.\n",
    "\n",
    "---\n",
    "\n",
    "#### 🔮 Generar predicciones fuera de muestra\n"
   ]
  },
  {
   "cell_type": "code",
   "execution_count": null,
   "metadata": {},
   "outputs": [],
   "source": [
    "# Últimos 24 registros (lagged inputs) como test\n",
    "X_pred <- tail(data_nnet, 24)[, -1]\n",
    "\n",
    "# Predicción en log-escala\n",
    "pred_caret <- predict(modelo_caret, newdata = X_pred)\n",
    "\n",
    "# Transformar a escala original\n",
    "fechas_pred <- seq(as.Date(\"1961-01-01\"), by = \"month\", length.out = 24)\n",
    "df_pred_caret <- data.frame(\n",
    "  Fecha = fechas_pred,\n",
    "  Pronostico = exp(pred_caret)\n",
    ")"
   ]
  },
  {
   "cell_type": "markdown",
   "metadata": {},
   "source": [
    "#### 📈 Visualización del pronóstico\n"
   ]
  },
  {
   "cell_type": "code",
   "execution_count": null,
   "metadata": {},
   "outputs": [],
   "source": [
    "ggplot() +\n",
    "  geom_line(data = df_hist, aes(x = Fecha, y = Pasajeros), color = \"black\") +\n",
    "  geom_line(data = df_pred_caret, aes(x = Fecha, y = Pronostico), color = \"blue\") +\n",
    "  labs(title = \"Pronóstico con red neuronal (`caret`)\", y = \"Pasajeros\") +\n",
    "  theme_minimal()"
   ]
  },
  {
   "cell_type": "markdown",
   "metadata": {},
   "source": [
    "### ✅ Interpretación esperada\n",
    "\n",
    "* El modelo se beneficia del proceso de validación cruzada, ajustando mejor la capacidad de generalización.\n",
    "* Sin embargo, como depende solo de rezagos, **puede fallar al capturar estacionalidad compleja** o al mantener la tendencia con precisión en el largo plazo.\n",
    "* La visualización permite detectar **desviaciones sistemáticas** y comparar con pronósticos anteriores (`nnet`, `nnetar`).\n",
    "\n",
    "## 🔁 **6. Red neuronal recurrente con `RSNNS` (Elman)**\n",
    "\n",
    "Las redes Elman son un tipo de **red neuronal recurrente (RNN)** que incorporan memoria corta mediante conexiones de retroalimentación. Son útiles para series temporales ya que pueden capturar **dependencias más profundas** que los modelos feedforward.\n",
    "\n",
    "---\n",
    "\n",
    "#### 🧠 Entrenar la red Elman\n"
   ]
  },
  {
   "cell_type": "code",
   "execution_count": null,
   "metadata": {},
   "outputs": [],
   "source": [
    "library(RSNNS)\n",
    "\n",
    "modelo_rsnns <- elman(\n",
    "  X[train_idx, ], y[train_idx],\n",
    "  size = c(5),\n",
    "  learnFuncParams = c(0.1),\n",
    "  maxit = 100\n",
    ")\n",
    "\n",
    "modelo_rsnns\n"
   ]
  },
  {
   "cell_type": "markdown",
   "metadata": {},
   "source": [
    "#### 🔮 Pronóstico recursivo\n"
   ]
  },
  {
   "cell_type": "code",
   "execution_count": null,
   "metadata": {},
   "outputs": [],
   "source": [
    "pred_rsnns <- numeric(24)\n",
    "input <- X[n - 24, ]\n",
    "\n",
    "for (i in 1:24) {\n",
    "  pred_rsnns[i] <- predict(modelo_rsnns, matrix(input, nrow = 1))\n",
    "  input <- c(pred_rsnns[i], head(input, -1))\n",
    "}\n"
   ]
  },
  {
   "cell_type": "markdown",
   "metadata": {},
   "source": [
    "#### 📊 Visualización\n"
   ]
  },
  {
   "cell_type": "code",
   "execution_count": null,
   "metadata": {},
   "outputs": [],
   "source": [
    "df_pred_rsnns <- data.frame(\n",
    "  Fecha = fechas_pred,\n",
    "  Pronostico = exp(pred_rsnns)\n",
    ")\n",
    "\n",
    "ggplot() +\n",
    "  geom_line(data = df_hist, aes(x = Fecha, y = Pasajeros), color = \"black\") +\n",
    "  geom_line(data = df_pred_rsnns, aes(x = Fecha, y = Pronostico), color = \"darkred\") +\n",
    "  labs(title = \"Pronóstico con red neuronal recurrente (`RSNNS`)\", y = \"Pasajeros\") +\n",
    "  theme_minimal()\n"
   ]
  },
  {
   "cell_type": "markdown",
   "metadata": {},
   "source": [
    "### ✅ Observaciones esperadas\n",
    "\n",
    "* Las RNN pueden **capturar patrones de dependencia más largos**, pero:\n",
    "\n",
    "  * Requieren más datos y entrenamiento más prolongado.\n",
    "  * Son sensibles a la inicialización y número de iteraciones (`maxit`).\n",
    "* La red puede producir **pronósticos planos** si no logra aprender la estructura estacional.\n",
    "\n",
    "---\n",
    "\n",
    "## 🔁 **7. Red autoregresiva con `tsDyn::nnetTs`**\n",
    "\n",
    "`tsDyn` ofrece una forma rápida de ajustar redes autoregresivas con una interfaz especializada para series temporales.\n",
    "\n",
    "---\n",
    "\n",
    "#### 🧠 Ajustar la red"
   ]
  },
  {
   "cell_type": "code",
   "execution_count": null,
   "metadata": {},
   "outputs": [],
   "source": [
    "library(tsDyn)\n",
    "\n",
    "modelo_tsDyn <- nnetTs(log_ap[1:(length(log_ap) - 24)], m = 12, size = 5)\n",
    "modelo_tsDyn\n"
   ]
  },
  {
   "cell_type": "markdown",
   "metadata": {},
   "source": [
    "#### 🔮 Generar pronóstico a 24 pasos"
   ]
  },
  {
   "cell_type": "code",
   "execution_count": null,
   "metadata": {},
   "outputs": [],
   "source": [
    "pred_tsDyn <- predict(modelo_tsDyn, n.ahead = 24)\n",
    "\n",
    "df_pred_tsDyn <- data.frame(\n",
    "  Fecha = fechas_pred,\n",
    "  Pronostico = exp(pred_tsDyn)\n",
    ")"
   ]
  },
  {
   "cell_type": "markdown",
   "metadata": {},
   "source": [
    "#### 📈 Visualización"
   ]
  },
  {
   "cell_type": "code",
   "execution_count": null,
   "metadata": {},
   "outputs": [],
   "source": [
    "ggplot() +\n",
    "  geom_line(data = df_hist, aes(x = Fecha, y = Pasajeros), color = \"black\") +\n",
    "  geom_line(data = df_pred_tsDyn, aes(x = Fecha, y = Pronostico), color = \"purple\") +\n",
    "  labs(title = \"Pronóstico con red neuronal autoregresiva (`tsDyn`)\", y = \"Pasajeros\") +\n",
    "  theme_minimal()"
   ]
  },
  {
   "cell_type": "markdown",
   "metadata": {},
   "source": [
    "### ✅ Comentarios esperados\n",
    "\n",
    "* `tsDyn` facilita el ajuste y predicción sin pasos manuales, ideal para exploración rápida.\n",
    "* Puede generar **pronósticos razonables**, pero **no incluye validación cruzada ni regularización explícita**.\n",
    "* A diferencia de `caret` o `nnetar`, **el modelo es sensible al sobreajuste y a la amplitud de los lags**.\n",
    "\n",
    "### 💬 Preguntas\n",
    "\n",
    "1.  ¿Qué ventajas ofrece el modelo de estado espacial frente a las redes neuronales cuando se busca descomponer una serie temporal en tendencia y estacionalidad? \n",
    "2.  ¿Por qué es importante aplicar la transformación logarítmica antes de ajustar redes neuronales a la serie `AirPassengers`? ¿Qué podría pasar si no se realiza? \n",
    "3.  En el modelo `nnetar()`, ¿cómo se interpreta la notación NNAR(1,1,2)\\[12]? ¿Qué representa cada número? \n",
    "4.  ¿Cuál es la diferencia clave entre los pronósticos generados con `nnetar()` y los obtenidos con `nnet()` manual? ¿Qué riesgos introduce la predicción recursiva? \n",
    "5.  ¿Qué rol juega la validación cruzada tipo *rolling forecasting origin* utilizada con `caret`? ¿En qué se diferencia de una validación cruzada tradicional? \n",
    "6.  Al comparar los resultados de `RSNNS` y `tsDyn`, ¿por qué puede fallar una red neuronal en capturar adecuadamente la estacionalidad o la tendencia, incluso si tiene una arquitectura similar a otros modelos que sí lo logran? \n",
    "\n",
    "## 📐 Modelos Aditivos Generalizados (GAMs) con `mgcv`\n",
    "\n",
    "Los modelos GAM permiten modelar series temporales de manera **flexible y estructurada**, separando la tendencia del tiempo y la estacionalidad mediante funciones suavizadas. Esta técnica es especialmente útil cuando no se desea imponer una estructura paramétrica rígida.\n",
    "\n",
    "---\n",
    "\n",
    "### ⚙️ **1. Preparación de datos**\n",
    "\n",
    "Transformamos la serie `AirPassengers` en un `tibble` con variables explícitas para año, mes, tiempo y logaritmo:\n",
    "\n"
   ]
  },
  {
   "cell_type": "code",
   "execution_count": null,
   "metadata": {},
   "outputs": [],
   "source": [
    "library(mgcv)\n",
    "library(tibble)\n",
    "library(dplyr)\n",
    "\n",
    "df_ap <- tibble(\n",
    "  Fecha = as.Date(as.yearmon(time(AirPassengers))),\n",
    "  Año = as.numeric(format(Fecha, \"%Y\")),\n",
    "  Mes = as.numeric(format(Fecha, \"%m\")),\n",
    "  Tiempo = 1:length(AirPassengers),\n",
    "  Pasajeros = as.numeric(AirPassengers),\n",
    "  LogPasajeros = log(Pasajeros)\n",
    ")"
   ]
  },
  {
   "cell_type": "markdown",
   "metadata": {},
   "source": [
    "### 🧠 **2. Ajustar modelo GAM**\n",
    "\n",
    "Usamos dos funciones suavizadas:\n",
    "\n",
    "* `s(Tiempo)`: para capturar la **tendencia**.\n",
    "* `s(Mes, bs = \"cc\")`: para modelar la **estacionalidad cíclica**.\n"
   ]
  },
  {
   "cell_type": "code",
   "execution_count": null,
   "metadata": {},
   "outputs": [],
   "source": [
    "modelo_gam <- gam(LogPasajeros ~ s(Tiempo, k = 20) + s(Mes, bs = \"cc\", k = 12),\n",
    "                  data = df_ap,\n",
    "                  method = \"REML\")"
   ]
  },
  {
   "cell_type": "markdown",
   "metadata": {},
   "source": [
    "### 📋 **3. Evaluar y visualizar el modelo**\n"
   ]
  },
  {
   "cell_type": "code",
   "execution_count": null,
   "metadata": {},
   "outputs": [],
   "source": [
    "summary(modelo_gam)\n",
    "\n",
    "par(mfrow = c(1, 2))\n",
    "plot(modelo_gam, shade = TRUE, seWithMean = TRUE)\n"
   ]
  },
  {
   "cell_type": "markdown",
   "metadata": {},
   "source": [
    "> Verifica la **significancia de los términos suavizados**, el **R² ajustado** y la **forma de los componentes suavizados** (tendencia y estacionalidad).\n",
    "\n",
    "---\n",
    "\n",
    "### 🧾 **4. Visualizar el ajuste**"
   ]
  },
  {
   "cell_type": "code",
   "execution_count": null,
   "metadata": {},
   "outputs": [],
   "source": [
    "df_ap$Ajuste <- fitted(modelo_gam)\n",
    "\n",
    "ggplot(df_ap, aes(x = Fecha)) +\n",
    "  geom_line(aes(y = LogPasajeros), color = \"black\") +\n",
    "  geom_line(aes(y = Ajuste), color = \"blue\") +\n",
    "  labs(title = \"GAM: Ajuste de log(Pasajeros)\",\n",
    "       y = \"log(Pasajeros)\", x = \"Fecha\") +\n",
    "  theme_minimal()"
   ]
  },
  {
   "cell_type": "markdown",
   "metadata": {},
   "source": [
    "### 🔮 **5. Generar predicción a 24 meses**"
   ]
  },
  {
   "cell_type": "code",
   "execution_count": null,
   "metadata": {},
   "outputs": [],
   "source": [
    "# Crear nuevas fechas\n",
    "ultimo_tiempo <- max(df_ap$Tiempo)\n",
    "fechas_futuras <- seq(from = max(df_ap$Fecha) + 1, by = \"month\", length.out = 24)\n",
    "\n",
    "# Armar data.frame de predicción\n",
    "df_pred <- tibble(\n",
    "  Fecha = fechas_futuras,\n",
    "  Tiempo = (ultimo_tiempo + 1):(ultimo_tiempo + 24),\n",
    "  Mes = as.numeric(format(fechas_futuras, \"%m\"))\n",
    ")\n",
    "\n",
    "# Predicción en log-escala con errores estándar\n",
    "pred_log <- predict(modelo_gam, newdata = df_pred, se.fit = TRUE)\n",
    "\n",
    "# Transformar a escala original\n",
    "df_pred <- df_pred %>%\n",
    "  mutate(\n",
    "    LogPred = pred_log$fit,\n",
    "    LogLI = LogPred - 1.96 * pred_log$se.fit,\n",
    "    LogLS = LogPred + 1.96 * pred_log$se.fit,\n",
    "    Pred = exp(LogPred),\n",
    "    LI = exp(LogLI),\n",
    "    LS = exp(LogLS)\n",
    "  )"
   ]
  },
  {
   "cell_type": "markdown",
   "metadata": {},
   "source": [
    "### 📈 **6. Visualizar predicción final**"
   ]
  },
  {
   "cell_type": "code",
   "execution_count": null,
   "metadata": {},
   "outputs": [],
   "source": [
    "ggplot() +\n",
    "  geom_line(data = df_ap, aes(x = Fecha, y = Pasajeros), color = \"black\") +\n",
    "  geom_line(data = df_pred, aes(x = Fecha, y = Pred), color = \"blue\") +\n",
    "  geom_ribbon(data = df_pred, aes(x = Fecha, ymin = LI, ymax = LS), alpha = 0.2, fill = \"blue\") +\n",
    "  labs(title = \"Predicción a 24 meses con GAM\",\n",
    "       x = \"Fecha\", y = \"Pasajeros (escala original)\") +\n",
    "  theme_minimal()"
   ]
  },
  {
   "cell_type": "markdown",
   "metadata": {},
   "source": [
    "### ✅ ¿Qué observamos?\n",
    "\n",
    "* El GAM logra capturar tanto la **tendencia suave** como la **estacionalidad cíclica mensual**.\n",
    "* Las bandas de predicción reflejan la **incertidumbre estimada** por el modelo.\n",
    "* Es un modelo **explicativo e interpretable**, ideal para **análisis estructural y visualización**, aunque limitado en tareas de forecasting puro.\n",
    "\n",
    "## 💬  Preguntas para discusión final del taller \n",
    "\n",
    "### 📌 Comparación y aplicación de modelos\n",
    "\n",
    "1.  ¿Cuál de los tres enfoques modela de forma más transparente la estructura de una serie temporal? ¿Por qué? \n",
    "   *(Considera descomposición explícita, interpretabilidad y flexibilidad.)*\n",
    "2.  ¿Qué tipo de modelo usarías si tuvieras una serie con cambios de régimen, intervenciones o datos faltantes? Justifica tu respuesta. \n",
    "3.  Si tu objetivo principal es la precisión del pronóstico en el corto plazo, ¿cuál modelo preferirías y por qué? \n",
    "\n",
    "---\n",
    "\n",
    "### 🧠 Reflexión metodológica\n",
    "\n",
    "4.  ¿Qué riesgos implica utilizar pronósticos recursivos con redes neuronales como `nnet()` o `RSNNS`? ¿Cómo podrían mitigarse? \n",
    "5.  ¿Cómo se diferencia el enfoque de estacionalidad en los GAMs respecto al modelo de estado espacial y las redes neuronales autoregresivas? \n",
    "6.  ¿Crees que combinar estos enfoques (por ejemplo, GAM + RNN o GAM + estado espacial) podría ser útil en algún contexto? ¿Qué ganarías o perderías con dicha combinación? \n"
   ]
  }
 ],
 "metadata": {
  "kernelspec": {
   "display_name": "R",
   "language": "R",
   "name": "ir"
  },
  "language_info": {
   "codemirror_mode": "r",
   "file_extension": ".r",
   "mimetype": "text/x-r-source",
   "name": "R",
   "pygments_lexer": "r",
   "version": "4.5.0"
  }
 },
 "nbformat": 4,
 "nbformat_minor": 2
}
