{
 "cells": [
  {
   "cell_type": "markdown",
   "id": "85785f97",
   "metadata": {},
   "source": [
    "<center>\n",
    "    <h1><font size=\"16\">Especialización en Estadística</font></h1>\n",
    "    <h1><font size=\"12\">SERIES DE TIEMPO</font></h1>\n",
    "</center>"
   ]
  },
  {
   "cell_type": "markdown",
   "id": "d77c9c28",
   "metadata": {},
   "source": [
    "<h2>🧪 Taller Práctico: Modelos Híbridos con Random Forest</h2>\n",
    "\n",
    "<h3>🎯 Objetivo</h3>\n",
    "\n",
    "Implementar un modelo híbrido para series de tiempo que combine una descomposición estadística con un modelo de aprendizaje automático, específicamente **Random Forest**, para mejorar la capacidad de pronóstico frente a métodos tradicionales.\n",
    "\n",
    "<h3>📌 ¿Por qué Random Forest?</h3>\n",
    "\n",
    "- **Random Forest** es un algoritmo de aprendizaje automático basado en árboles de decisión.\n",
    "- Se caracteriza por ser:\n",
    "  - **No paramétrico**: no requiere suponer una forma funcional específica.\n",
    "  - **Robusto ante ruido** y multicolinealidad.\n",
    "  - **Capaz de capturar interacciones no lineales** entre predictores.\n",
    "- En el contexto de series de tiempo, puede modelar relaciones complejas entre los residuos y sus lags u otras variables auxiliares.\n",
    "- Es más **estable y fácil de ajustar** que otros métodos como SVM o XGBoost, lo cual lo hace ideal para una introducción práctica.\n",
    "\n",
    "<h3>📂 Dataset utilizado</h3>\n",
    "\n",
    "`AirPassengers` — Serie mensual de pasajeros aéreos entre 1949 y 1960 (incluida por defecto en R).\n",
    "\n",
    "<h3>🧭 Flujo del taller</h3>\n",
    "\n",
    "**1. Preparación del entorno y de la serie**\n"
   ]
  },
  {
   "cell_type": "code",
   "execution_count": 1,
   "id": "cb4deb29",
   "metadata": {},
   "outputs": [
    {
     "name": "stderr",
     "output_type": "stream",
     "text": [
      "Registered S3 method overwritten by 'tsibble':\n",
      "  method               from \n",
      "  as_tibble.grouped_df dplyr\n",
      "\n",
      "── \u001b[1mAttaching packages\u001b[22m ─────────────────────────────────────────────────────────────────────────────────── fpp3 1.0.1 ──\n",
      "\n",
      "\u001b[32m✔\u001b[39m \u001b[34mtibble     \u001b[39m 3.2.1     \u001b[32m✔\u001b[39m \u001b[34mtsibble    \u001b[39m 1.1.6\n",
      "\u001b[32m✔\u001b[39m \u001b[34mdplyr      \u001b[39m 1.1.4     \u001b[32m✔\u001b[39m \u001b[34mtsibbledata\u001b[39m 0.4.1\n",
      "\u001b[32m✔\u001b[39m \u001b[34mtidyr      \u001b[39m 1.3.1     \u001b[32m✔\u001b[39m \u001b[34mfeasts     \u001b[39m 0.4.1\n",
      "\u001b[32m✔\u001b[39m \u001b[34mlubridate  \u001b[39m 1.9.4     \u001b[32m✔\u001b[39m \u001b[34mfable      \u001b[39m 0.4.1\n",
      "\u001b[32m✔\u001b[39m \u001b[34mggplot2    \u001b[39m 3.5.1     \n",
      "\n",
      "── \u001b[1mConflicts\u001b[22m ──────────────────────────────────────────────────────────────────────────────────────── fpp3_conflicts ──\n",
      "\u001b[31m✖\u001b[39m \u001b[34mlubridate\u001b[39m::\u001b[32mdate()\u001b[39m    masks \u001b[34mbase\u001b[39m::date()\n",
      "\u001b[31m✖\u001b[39m \u001b[34mdplyr\u001b[39m::\u001b[32mfilter()\u001b[39m      masks \u001b[34mstats\u001b[39m::filter()\n",
      "\u001b[31m✖\u001b[39m \u001b[34mtsibble\u001b[39m::\u001b[32mintersect()\u001b[39m masks \u001b[34mbase\u001b[39m::intersect()\n",
      "\u001b[31m✖\u001b[39m \u001b[34mtsibble\u001b[39m::\u001b[32minterval()\u001b[39m  masks \u001b[34mlubridate\u001b[39m::interval()\n",
      "\u001b[31m✖\u001b[39m \u001b[34mdplyr\u001b[39m::\u001b[32mlag()\u001b[39m         masks \u001b[34mstats\u001b[39m::lag()\n",
      "\u001b[31m✖\u001b[39m \u001b[34mtsibble\u001b[39m::\u001b[32msetdiff()\u001b[39m   masks \u001b[34mbase\u001b[39m::setdiff()\n",
      "\u001b[31m✖\u001b[39m \u001b[34mtsibble\u001b[39m::\u001b[32munion()\u001b[39m     masks \u001b[34mbase\u001b[39m::union()\n",
      "\n",
      "randomForest 4.7-1.2\n",
      "\n",
      "Type rfNews() to see new features/changes/bug fixes.\n",
      "\n",
      "\n",
      "Adjuntando el paquete: 'randomForest'\n",
      "\n",
      "\n",
      "The following object is masked from 'package:ggplot2':\n",
      "\n",
      "    margin\n",
      "\n",
      "\n",
      "The following object is masked from 'package:dplyr':\n",
      "\n",
      "    combine\n",
      "\n",
      "\n"
     ]
    }
   ],
   "source": [
    "library(fpp3)\n",
    "library(randomForest)\n",
    "library(dplyr)\n",
    "library(ggplot2)\n",
    "\n",
    "# Convertir la serie a tsibble\n",
    "ap_ts <- as_tsibble(AirPassengers)"
   ]
  },
  {
   "cell_type": "markdown",
   "id": "0304f0a0",
   "metadata": {},
   "source": [
    "**2. Ajustar modelo STL para capturar estructura**\n"
   ]
  },
  {
   "cell_type": "code",
   "execution_count": 2,
   "id": "6fb5519c",
   "metadata": {},
   "outputs": [],
   "source": [
    "modelo_stl <- ap_ts %>% model(STL = STL(value))\n",
    "componentes <- components(modelo_stl)"
   ]
  },
  {
   "cell_type": "markdown",
   "id": "4dd3c753",
   "metadata": {},
   "source": [
    "**3. Preparar dataset con residuos y lags para el modelo ML**\n"
   ]
  },
  {
   "cell_type": "code",
   "execution_count": 3,
   "id": "e1b5cece",
   "metadata": {},
   "outputs": [],
   "source": [
    "componentes_ml <- componentes %>%\n",
    "  select(index, remainder) %>%\n",
    "  mutate(\n",
    "    lag1 = lag(remainder, 1),\n",
    "    lag2 = lag(remainder, 2),\n",
    "    lag3 = lag(remainder, 3)\n",
    "  ) %>%\n",
    "  drop_na()\n"
   ]
  },
  {
   "cell_type": "markdown",
   "id": "88b56f0b",
   "metadata": {},
   "source": [
    "**4. Entrenar modelo de Random Forest**\n"
   ]
  },
  {
   "cell_type": "code",
   "execution_count": 4,
   "id": "1ab1c4b5",
   "metadata": {},
   "outputs": [],
   "source": [
    "datos_rf <- as.data.frame(componentes_ml)\n",
    "\n",
    "modelo_rf <- randomForest(\n",
    "  remainder ~ lag1 + lag2 + lag3,\n",
    "  data = datos_rf\n",
    ")\n"
   ]
  },
  {
   "cell_type": "markdown",
   "id": "f5bdeb7a",
   "metadata": {},
   "source": [
    "**5. Construir predicción híbrida**\n"
   ]
  },
  {
   "cell_type": "code",
   "execution_count": 5,
   "id": "bd4fcffc",
   "metadata": {},
   "outputs": [],
   "source": [
    "datos_rf$pred_rf <- predict(modelo_rf, newdata = datos_rf)\n",
    "\n",
    "season_adjust_df <- components(modelo_stl) %>%\n",
    "  select(index, season_adjust)\n",
    "\n",
    "df_hibrido <- datos_rf %>%\n",
    "  left_join(season_adjust_df, by = \"index\") %>%\n",
    "  mutate(pred_hibrido = season_adjust + pred_rf)\n"
   ]
  },
  {
   "cell_type": "markdown",
   "id": "f8c02759",
   "metadata": {},
   "source": [
    "**6. Visualizar resultado**\n"
   ]
  },
  {
   "cell_type": "code",
   "execution_count": 6,
   "id": "dd2613f1",
   "metadata": {},
   "outputs": [
    {
     "data": {
      "image/png": "[encoded data removed]",
      "text/plain": [
       "plot without title"
      ]
     },
     "metadata": {
      "image/png": {
       "height": 420,
       "width": 420
      }
     },
     "output_type": "display_data"
    }
   ],
   "source": [
    "ggplot(df_hibrido, aes(x = index)) +\n",
    "  geom_line(aes(y = season_adjust + remainder), color = \"black\", linetype = \"dashed\") +\n",
    "  geom_line(aes(y = pred_hibrido), color = \"blue\") +\n",
    "  labs(\n",
    "    title = \"Modelo Híbrido STL + Random Forest\",\n",
    "    y = \"Pasajeros (en miles)\",\n",
    "    x = \"Fecha\",\n",
    "    caption = \"Negro: valores reales | Azul: predicción híbrida\"\n",
    "  ) +\n",
    "  theme_minimal()\n"
   ]
  },
  {
   "cell_type": "markdown",
   "id": "bf8707f0",
   "metadata": {},
   "source": [
    "**7. Evaluar el desempeño**\n",
    "\n",
    "Comparamos los residuos reales con los valores ajustados del modelo híbrido:\n"
   ]
  },
  {
   "cell_type": "code",
   "execution_count": 7,
   "id": "546ead7c",
   "metadata": {},
   "outputs": [
    {
     "name": "stderr",
     "output_type": "stream",
     "text": [
      "\n",
      "Adjuntando el paquete: 'yardstick'\n",
      "\n",
      "\n",
      "The following object is masked from 'package:fabletools':\n",
      "\n",
      "    accuracy\n",
      "\n",
      "\n"
     ]
    },
    {
     "name": "stdout",
     "output_type": "stream",
     "text": [
      "\u001b[90m# A tibble: 3 × 3\u001b[39m\n",
      "  .metric .estimator .estimate\n",
      "  \u001b[3m\u001b[90m<chr>\u001b[39m\u001b[23m   \u001b[3m\u001b[90m<chr>\u001b[39m\u001b[23m          \u001b[3m\u001b[90m<dbl>\u001b[39m\u001b[23m\n",
      "\u001b[90m1\u001b[39m rmse    standard       4.55 \n",
      "\u001b[90m2\u001b[39m rsq     standard       0.998\n",
      "\u001b[90m3\u001b[39m mae     standard       3.24 \n"
     ]
    }
   ],
   "source": [
    "library(yardstick)\n",
    "\n",
    "df_hibrido %>%\n",
    "  mutate(real = season_adjust + remainder) %>%\n",
    "  metrics(truth = real, estimate = pred_hibrido) %>%\n",
    "  print()\n"
   ]
  },
  {
   "cell_type": "markdown",
   "id": "356fd441",
   "metadata": {},
   "source": [
    "**Pronósticos a futuro del modelo híbrido**\n",
    "\n",
    "Aunque randomForest no tiene una estructura de predicción autoregresiva automática como los modelos clásicos, podemos construir una predicción paso a paso hacia adelante usando una estrategia autoregresiva sobre los residuos.\n",
    "\n",
    "**🔮 Proyección hacia el futuro con modelo híbrido STL + Random Forest**\n",
    "\n",
    "🛠 Paso 1: Definir cuántos pasos quieres predecir"
   ]
  },
  {
   "cell_type": "code",
   "execution_count": 8,
   "id": "eeb08a05",
   "metadata": {},
   "outputs": [],
   "source": [
    "h <- 12  # por ejemplo, 12 meses adelante"
   ]
  },
  {
   "cell_type": "markdown",
   "id": "f1f03e47",
   "metadata": {},
   "source": [
    "🛠 Paso 2: Obtener la serie STL y sus componentes\n"
   ]
  },
  {
   "cell_type": "code",
   "execution_count": 9,
   "id": "1dccf382",
   "metadata": {},
   "outputs": [],
   "source": [
    "modelo_stl <- ap_ts %>% model(STL = STL(value))\n",
    "componentes <- components(modelo_stl)\n"
   ]
  },
  {
   "cell_type": "markdown",
   "id": "366ff990",
   "metadata": {},
   "source": [
    "🛠 Paso 3: Proyectar el componente tradicional (usamos `ETS` sobre la serie desestacionalizada)"
   ]
  },
  {
   "cell_type": "code",
   "execution_count": 10,
   "id": "b51f80d7",
   "metadata": {},
   "outputs": [],
   "source": [
    "modelo_ets_stl <- componentes %>%\n",
    "  select(index, season_adjust) %>%\n",
    "  model(ETS_stl = ETS(season_adjust))\n",
    "\n",
    "# Forecast del componente desestacionalizado\n",
    "pred_sa <- modelo_ets_stl %>% forecast(h = h)\n",
    "\n",
    "# Extraer valores pronosticados\n",
    "valores_sa <- pred_sa %>% as_tibble() %>% pull(.mean)\n"
   ]
  },
  {
   "cell_type": "markdown",
   "id": "fab9ab2b",
   "metadata": {},
   "source": [
    "🛠 Paso 4: Proyectar la estacionalidad repitiendo el último ciclo completo"
   ]
  },
  {
   "cell_type": "code",
   "execution_count": 11,
   "id": "8fead766",
   "metadata": {},
   "outputs": [],
   "source": [
    "ultima_estacionalidad <- tail(componentes$season_year, 12)\n",
    "pred_estacionalidad <- rep(ultima_estacionalidad, length.out = h)"
   ]
  },
  {
   "cell_type": "markdown",
   "id": "62966e40",
   "metadata": {},
   "source": [
    "🛠 Paso 5: Crear índice de fechas futuras (como `yearmonth`)"
   ]
  },
  {
   "cell_type": "code",
   "execution_count": 12,
   "id": "af548276",
   "metadata": {},
   "outputs": [],
   "source": [
    "ult_fecha <- max(componentes$index)\n",
    "fechas_futuras <- ult_fecha + 1:h  # Avanza h meses en yearmonth"
   ]
  },
  {
   "cell_type": "markdown",
   "id": "433e902c",
   "metadata": {},
   "source": [
    "🛠 Paso 6: Crear tabla con predicción ETS + estacionalidad"
   ]
  },
  {
   "cell_type": "code",
   "execution_count": 13,
   "id": "b5f4aa7f",
   "metadata": {},
   "outputs": [],
   "source": [
    "df_futuro <- tibble(\n",
    "  index = fechas_futuras,\n",
    "  season_adjust = valores_sa,\n",
    "  seasonal = pred_estacionalidad\n",
    ")\n"
   ]
  },
  {
   "cell_type": "markdown",
   "id": "9f8875e0",
   "metadata": {},
   "source": [
    "🛠 Paso 7: Proyectar los residuos con Random Forest autoregresivo"
   ]
  },
  {
   "cell_type": "code",
   "execution_count": 14,
   "id": "2756a2e5",
   "metadata": {},
   "outputs": [],
   "source": [
    "# Crear dataset de entrenamiento de residuos\n",
    "residuos_df <- componentes %>%\n",
    "  as_tibble() %>%\n",
    "  mutate(\n",
    "    lag1 = lag(remainder, 1),\n",
    "    lag2 = lag(remainder, 2),\n",
    "    lag3 = lag(remainder, 3)\n",
    "  ) %>%\n",
    "  drop_na()\n",
    "\n",
    "# Ajustar modelo Random Forest\n",
    "modelo_rf <- randomForest(remainder ~ lag1 + lag2 + lag3, data = residuos_df)\n",
    "\n",
    "# Semilla: últimos 3 residuos\n",
    "ultimos_residuos <- tail(componentes$remainder, 3)\n",
    "\n",
    "# Predicción autoregresiva paso a paso\n",
    "residuos_pred <- numeric(h)\n",
    "for (i in 1:h) {\n",
    "  nuevo <- data.frame(\n",
    "    lag1 = ultimos_residuos[length(ultimos_residuos)],\n",
    "    lag2 = ultimos_residuos[length(ultimos_residuos) - 1],\n",
    "    lag3 = ultimos_residuos[length(ultimos_residuos) - 2]\n",
    "  )\n",
    "  pred <- predict(modelo_rf, newdata = nuevo)\n",
    "  residuos_pred[i] <- pred\n",
    "  ultimos_residuos <- c(ultimos_residuos, pred)\n",
    "}\n"
   ]
  },
  {
   "cell_type": "markdown",
   "id": "fa324911",
   "metadata": {},
   "source": [
    "🛠 Paso 8: Combinar todo y obtener el pronóstico híbrido"
   ]
  },
  {
   "cell_type": "code",
   "execution_count": 15,
   "id": "38e5f8fd",
   "metadata": {},
   "outputs": [],
   "source": [
    "df_futuro <- df_futuro %>%\n",
    "  mutate(\n",
    "    pred_rf = residuos_pred,\n",
    "    pred_hibrido = season_adjust + seasonal + pred_rf\n",
    "  )"
   ]
  },
  {
   "cell_type": "markdown",
   "id": "646c9e83",
   "metadata": {},
   "source": [
    "📈 Visualización de la proyección"
   ]
  },
  {
   "cell_type": "code",
   "execution_count": 16,
   "id": "54ff6890",
   "metadata": {},
   "outputs": [
    {
     "data": {
      "image/png": "[encoded data removed]",
      "text/plain": [
       "plot without title"
      ]
     },
     "metadata": {
      "image/png": {
       "height": 420,
       "width": 420
      }
     },
     "output_type": "display_data"
    }
   ],
   "source": [
    "# Convertir la serie original a tsibble si no lo está\n",
    "ap_ts <- as_tsibble(AirPassengers)\n",
    "\n",
    "# Visualizar la serie original + predicción\n",
    "ggplot() +\n",
    "  geom_line(data = ap_ts, aes(x = index, y = value), color = \"gray60\", linewidth = 0.8) +\n",
    "  geom_line(data = df_futuro, aes(x = index, y = pred_hibrido), color = \"blue\", linewidth = 1.2) +\n",
    "  labs(\n",
    "    title = \"Proyección híbrida STL + Random Forest (12 meses hacia adelante)\",\n",
    "    x = \"Fecha\", y = \"Pasajeros (en miles)\",\n",
    "    caption = \"La línea gris muestra los valores reales hasta la fecha\\nLa línea azul representa la proyección futura\"\n",
    "  ) +\n",
    "  theme_minimal()\n"
   ]
  },
  {
   "cell_type": "markdown",
   "id": "0ffcff55",
   "metadata": {},
   "source": [
    "<h3>📝 Preguntas de reflexión para el taller</h3>\n",
    "\n",
    "1. ¿Qué mejoras se observan en el modelo híbrido respecto al componente estadístico solo?\n",
    "2. ¿Qué pasaría si se incluyen más lags? ¿Y si se usa otra técnica como `xgboost`?\n",
    "3. ¿Qué ventajas ofrece Random Forest frente a redes neuronales en este caso?\n",
    "4. ¿Qué desafíos se presentarían al aplicar este modelo sobre datos reales con efectos exógenos?\n"
   ]
  }
 ],
 "metadata": {
  "kernelspec": {
   "display_name": "R",
   "language": "R",
   "name": "ir"
  },
  "language_info": {
   "codemirror_mode": "r",
   "file_extension": ".r",
   "mimetype": "text/x-r-source",
   "name": "R",
   "pygments_lexer": "r",
   "version": "4.4.3"
  }
 },
 "nbformat": 4,
 "nbformat_minor": 5
}
