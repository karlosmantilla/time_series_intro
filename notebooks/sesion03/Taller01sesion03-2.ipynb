{
 "cells": [
  {
   "cell_type": "markdown",
   "metadata": {},
   "source": [
    "<center>\n",
    "    <h1><font size=\"16\">Especialización en Estadística</font></h1>\n",
    "    <h1><font size=\"12\">SERIES DE TIEMPO</font></h1>\n",
    "</center>"
   ]
  },
  {
   "cell_type": "markdown",
   "metadata": {},
   "source": [
    "## 🎓 Taller Práctico – Evaluación de Modelos de Pronóstico en Series Temporales\n",
    "\n",
    "### 📘 **Introducción**\n",
    "\n",
    "En este taller exploraremos cómo evaluar y comparar el desempeño de modelos de pronóstico aplicados a series temporales. El objetivo no es ajustar nuevos modelos, sino analizar críticamente los **resultados de modelos previamente estimados** (por ejemplo, mediante `arima()` o `auto.arima()`), aplicando criterios objetivos para determinar cuál modelo ofrece un mejor ajuste y mayor capacidad predictiva.\n",
    "\n",
    "Nos centraremos en tres aspectos clave:\n",
    "\n",
    "1. **Evaluación con métricas de error**: analizaremos medidas como RMSE, MAE, MAPE y MASE para comparar modelos.\n",
    "2. **Validación cruzada en series temporales**: aplicaremos técnicas específicas para evaluar el rendimiento fuera de muestra respetando la dependencia temporal.\n",
    "3. **Análisis de errores**: examinaremos gráficamente los residuos y sus patrones para detectar problemas de ajuste y posibles mejoras.\n",
    "\n",
    "> 🧠 Evaluar un modelo no solo implica calcular métricas, sino también interpretar sus resultados con base en los objetivos del análisis y la naturaleza de la serie.\n",
    "\n",
    "---\n",
    "\n",
    "### 🎯 **Objetivos del Taller**\n",
    "\n",
    "* Aplicar métricas estándar (MAE, RMSE, MAPE, MASE) para comparar modelos de pronóstico.\n",
    "* Implementar validación cruzada para evaluar el rendimiento fuera de muestra en series temporales.\n",
    "* Interpretar los errores y residuos del modelo para guiar decisiones sobre la calidad del ajuste.\n",
    "* Visualizar y comunicar de forma efectiva los resultados de la evaluación.\n",
    "\n",
    "---\n",
    "\n",
    "### 🧰 **Requisitos Previos**\n"
   ]
  },
  {
   "cell_type": "code",
   "execution_count": 2,
   "metadata": {},
   "outputs": [
    {
     "name": "stderr",
     "output_type": "stream",
     "text": [
      "Registered S3 method overwritten by 'tsibble':\n",
      "  method               from \n",
      "  as_tibble.grouped_df dplyr\n",
      "\n",
      "── \u001b[1mAttaching packages\u001b[22m ─────────────────────────────────────────────────────────────────────────────────── fpp3 1.0.1 ──\n",
      "\n",
      "\u001b[32m✔\u001b[39m \u001b[34mtibble     \u001b[39m 3.2.1     \u001b[32m✔\u001b[39m \u001b[34mtsibble    \u001b[39m 1.1.6\n",
      "\u001b[32m✔\u001b[39m \u001b[34mdplyr      \u001b[39m 1.1.4     \u001b[32m✔\u001b[39m \u001b[34mtsibbledata\u001b[39m 0.4.1\n",
      "\u001b[32m✔\u001b[39m \u001b[34mtidyr      \u001b[39m 1.3.1     \u001b[32m✔\u001b[39m \u001b[34mfeasts     \u001b[39m 0.4.1\n",
      "\u001b[32m✔\u001b[39m \u001b[34mlubridate  \u001b[39m 1.9.4     \u001b[32m✔\u001b[39m \u001b[34mfable      \u001b[39m 0.4.1\n",
      "\u001b[32m✔\u001b[39m \u001b[34mggplot2    \u001b[39m 3.5.2     \n",
      "\n",
      "── \u001b[1mConflicts\u001b[22m ──────────────────────────────────────────────────────────────────────────────────────── fpp3_conflicts ──\n",
      "\u001b[31m✖\u001b[39m \u001b[34mlubridate\u001b[39m::\u001b[32mdate()\u001b[39m    masks \u001b[34mbase\u001b[39m::date()\n",
      "\u001b[31m✖\u001b[39m \u001b[34mdplyr\u001b[39m::\u001b[32mfilter()\u001b[39m      masks \u001b[34mstats\u001b[39m::filter()\n",
      "\u001b[31m✖\u001b[39m \u001b[34mtsibble\u001b[39m::\u001b[32mintersect()\u001b[39m masks \u001b[34mbase\u001b[39m::intersect()\n",
      "\u001b[31m✖\u001b[39m \u001b[34mtsibble\u001b[39m::\u001b[32minterval()\u001b[39m  masks \u001b[34mlubridate\u001b[39m::interval()\n",
      "\u001b[31m✖\u001b[39m \u001b[34mdplyr\u001b[39m::\u001b[32mlag()\u001b[39m         masks \u001b[34mstats\u001b[39m::lag()\n",
      "\u001b[31m✖\u001b[39m \u001b[34mtsibble\u001b[39m::\u001b[32msetdiff()\u001b[39m   masks \u001b[34mbase\u001b[39m::setdiff()\n",
      "\u001b[31m✖\u001b[39m \u001b[34mtsibble\u001b[39m::\u001b[32munion()\u001b[39m     masks \u001b[34mbase\u001b[39m::union()\n",
      "\n",
      "Registered S3 method overwritten by 'quantmod':\n",
      "  method            from\n",
      "  as.zoo.data.frame zoo \n",
      "\n",
      "Registered S3 methods overwritten by 'forecast':\n",
      "  method  from \n",
      "  head.ts stats\n",
      "  tail.ts stats\n",
      "\n",
      "\n",
      "Adjuntando el paquete: 'yardstick'\n",
      "\n",
      "\n",
      "The following object is masked from 'package:forecast':\n",
      "\n",
      "    accuracy\n",
      "\n",
      "\n",
      "The following object is masked from 'package:fabletools':\n",
      "\n",
      "    accuracy\n",
      "\n",
      "\n"
     ]
    }
   ],
   "source": [
    "# Cargar paquetes necesarios\n",
    "\n",
    "library(fpp3)      # Framework moderno para modelado y evaluación de series temporales.\n",
    "library(forecast)  # Funciones como accuracy(), tsCV(), forecast(), checkresiduals().\n",
    "library(yardstick) # Métricas personalizadas en caso de modelos fuera de forecast/fable.\n",
    "library(ggplot2)   # Visualización de resultados de error.\n",
    "library(tsibble)   # Manipulación estructurada de series temporales.\n"
   ]
  },
  {
   "cell_type": "markdown",
   "metadata": {},
   "source": [
    "### 📥 **1. Carga y Transformación de los Datos**\n",
    "\n",
    "En este taller trabajaremos nuevamente con la serie **AirPassengers**, una serie temporal clásica que contiene el número mensual de pasajeros de aerolíneas internacionales entre 1949 y 1960.\n",
    "\n",
    "> Esta serie es útil por su comportamiento claramente **estacional y no estacionario**, lo que la convierte en un excelente ejemplo para el ajuste de modelos ARIMA estacionales.\n"
   ]
  },
  {
   "cell_type": "code",
   "execution_count": 3,
   "metadata": {},
   "outputs": [
    {
     "name": "stdout",
     "output_type": "stream",
     "text": [
      "     Jan Feb Mar Apr May Jun Jul Aug Sep Oct Nov Dec\n",
      "1949 112 118 132 129 121 135 148 148 136 119 104 118\n",
      "1950 115 126 141 135 125 149 170 170 158 133 114 140\n",
      "1951 145 150 178 163 172 178 199 199 184 162 146 166\n",
      "1952 171 180 193 181 183 218 230 242 209 191 172 194\n",
      "1953 196 196 236 235 229 243 264 272 237 211 180 201\n",
      "1954 204 188 235 227 234 264 302 293 259 229 203 229\n",
      "1955 242 233 267 269 270 315 364 347 312 274 237 278\n",
      "1956 284 277 317 313 318 374 413 405 355 306 271 306\n",
      "1957 315 301 356 348 355 422 465 467 404 347 305 336\n",
      "1958 340 318 362 348 363 435 491 505 404 359 310 337\n",
      "1959 360 342 406 396 420 472 548 559 463 407 362 405\n",
      "1960 417 391 419 461 472 535 622 606 508 461 390 432\n"
     ]
    }
   ],
   "source": [
    "# Cargar la serie AirPassengers desde forecast\n",
    "data(\"AirPassengers\")\n",
    "\n",
    "# Visualizar la estructura de la serie\n",
    "print(AirPassengers)"
   ]
  },
  {
   "cell_type": "markdown",
   "metadata": {},
   "source": [
    "Transformamos la serie a formato `tsibble` y aplicamos una transformación logarítmica para estabilizar la varianza:\n"
   ]
  },
  {
   "cell_type": "code",
   "execution_count": 4,
   "metadata": {},
   "outputs": [
    {
     "name": "stdout",
     "output_type": "stream",
     "text": [
      "\u001b[90m# A tsibble: 6 x 3 [1M]\u001b[39m\n",
      "      index value log_ap\n",
      "      \u001b[3m\u001b[90m<mth>\u001b[39m\u001b[23m \u001b[3m\u001b[90m<dbl>\u001b[39m\u001b[23m  \u001b[3m\u001b[90m<dbl>\u001b[39m\u001b[23m\n",
      "\u001b[90m1\u001b[39m 1949 ene.   112   4.72\n",
      "\u001b[90m2\u001b[39m 1949 feb.   118   4.77\n",
      "\u001b[90m3\u001b[39m 1949 mar.   132   4.88\n",
      "\u001b[90m4\u001b[39m 1949 abr.   129   4.86\n",
      "\u001b[90m5\u001b[39m 1949 may.   121   4.80\n",
      "\u001b[90m6\u001b[39m 1949 jun.   135   4.91\n"
     ]
    }
   ],
   "source": [
    "# Convertir a tsibble e incluir transformación logarítmica\n",
    "library(tsibble)\n",
    "library(dplyr)\n",
    "\n",
    "ap_ts <- AirPassengers %>%\n",
    "  as_tsibble(index = time) %>%\n",
    "  mutate(log_ap = log(value))  # 'value' es el número de pasajeros\n",
    "\n",
    "# Verificar los primeros valores\n",
    "print(head(ap_ts))"
   ]
  },
  {
   "cell_type": "markdown",
   "metadata": {},
   "source": [
    "Visualicemos ambas versiones para entender la transformación aplicada:"
   ]
  },
  {
   "cell_type": "code",
   "execution_count": 5,
   "metadata": {},
   "outputs": [
    {
     "data": {
      "image/png": "[encoded data removed]",
      "text/plain": [
       "plot without title"
      ]
     },
     "metadata": {
      "image/png": {
       "height": 420,
       "width": 420
      }
     },
     "output_type": "display_data"
    },
    {
     "data": {
      "image/png": "[encoded data removed]",
      "text/plain": [
       "plot without title"
      ]
     },
     "metadata": {
      "image/png": {
       "height": 420,
       "width": 420
      }
     },
     "output_type": "display_data"
    }
   ],
   "source": [
    "library(ggplot2)\n",
    "\n",
    "# Comparación entre la serie original y la transformada\n",
    "autoplot(ap_ts, value) + \n",
    "  ggtitle(\"Serie original: Número mensual de pasajeros\") +\n",
    "theme_minimal()\n",
    "\n",
    "autoplot(ap_ts, log_ap) + \n",
    "  ggtitle(\"Serie transformada: Logaritmo del número de pasajeros\") +\n",
    "theme_minimal()\n"
   ]
  },
  {
   "cell_type": "markdown",
   "metadata": {},
   "source": [
    "💬 **Pregunta de reflexión**:\n",
    "> ¿Qué ventajas puede ofrecer la transformación logarítmica al momento de ajustar un modelo ARIMA?\n",
    "> ¿Observas alguna diferencia en la varianza o comportamiento estacional tras la transformación?\n"
   ]
  },
  {
   "cell_type": "markdown",
   "metadata": {},
   "source": [
    "### 📊 **2. Evaluación de Modelos ARIMA/SARIMA Ajustados**\n",
    "\n",
    "Supongamos que ya contamos con varios modelos ajustados sobre la serie `log_ap`. En particular, vamos a trabajar con el modelo ajustado automáticamente mediante `auto.arima()` y un modelo ajustado manualmente, previamente identificado.\n",
    "\n",
    "#### 🔧 Estimación previa de modelos (ya realizada):\n"
   ]
  },
  {
   "cell_type": "code",
   "execution_count": 6,
   "metadata": {},
   "outputs": [],
   "source": [
    "library(forecast)\n",
    "\n",
    "# Serie logarítmica y modelo ARIMA manual\n",
    "log_ap <- log(AirPassengers)\n",
    "\n",
    "mm <- arima(log_ap, order = c(1,1,1), seasonal = list(order = c(0,1,1), period = 12))\n",
    "\n",
    "# Modelo automático\n",
    "ma <- auto.arima(log_ap)\n"
   ]
  },
  {
   "cell_type": "code",
   "execution_count": 7,
   "metadata": {},
   "outputs": [
    {
     "data": {
      "text/plain": [
       "\n",
       "Call:\n",
       "arima(x = log_ap, order = c(1, 1, 1), seasonal = list(order = c(0, 1, 1), period = 12))\n",
       "\n",
       "Coefficients:\n",
       "         ar1      ma1     sma1\n",
       "      0.1960  -0.5784  -0.5643\n",
       "s.e.  0.2475   0.2132   0.0747\n",
       "\n",
       "sigma^2 estimated as 0.001341:  log likelihood = 244.95,  aic = -481.9\n",
       "\n",
       "Training set error measures:\n",
       "                       ME       RMSE        MAE        MPE      MAPE      MASE\n",
       "Training set 0.0006214598 0.03495868 0.02587023 0.01205363 0.4682203 0.2855888\n",
       "                    ACF1\n",
       "Training set -0.01530261"
      ]
     },
     "metadata": {},
     "output_type": "display_data"
    }
   ],
   "source": [
    "summary(mm)"
   ]
  },
  {
   "cell_type": "code",
   "execution_count": 8,
   "metadata": {},
   "outputs": [
    {
     "data": {
      "text/plain": [
       "Series: log_ap \n",
       "ARIMA(0,1,1)(0,1,1)[12] \n",
       "\n",
       "Coefficients:\n",
       "          ma1     sma1\n",
       "      -0.4018  -0.5569\n",
       "s.e.   0.0896   0.0731\n",
       "\n",
       "sigma^2 = 0.001371:  log likelihood = 244.7\n",
       "AIC=-483.4   AICc=-483.21   BIC=-474.77\n",
       "\n",
       "Training set error measures:\n",
       "                       ME       RMSE        MAE        MPE      MAPE      MASE\n",
       "Training set 0.0005730622 0.03504883 0.02626034 0.01098898 0.4752815 0.2169522\n",
       "                   ACF1\n",
       "Training set 0.01443892"
      ]
     },
     "metadata": {},
     "output_type": "display_data"
    }
   ],
   "source": [
    "summary(ma)"
   ]
  },
  {
   "cell_type": "markdown",
   "metadata": {},
   "source": [
    "### 📐 **Métricas de evaluación del pronóstico**\n",
    "\n",
    "Utilizamos la función `forecast::accuracy()` para calcular métricas comunes de error en pronóstico:\n"
   ]
  },
  {
   "cell_type": "code",
   "execution_count": 9,
   "metadata": {},
   "outputs": [
    {
     "name": "stdout",
     "output_type": "stream",
     "text": [
      "                       ME       RMSE        MAE        MPE      MAPE      MASE\n",
      "Training set 0.0006214598 0.03495868 0.02587023 0.01205363 0.4682203 0.2137293\n",
      "                    ACF1\n",
      "Training set -0.01530261\n"
     ]
    }
   ],
   "source": [
    "# Pronóstico a 12 meses\n",
    "h <- 12\n",
    "pronostico_mm <- forecast(mm, h = h)\n",
    "\n",
    "# Evaluación de precisión (dentro de muestra)\n",
    "forecast::accuracy(pronostico_mm) %>%\n",
    "  print()"
   ]
  },
  {
   "cell_type": "code",
   "execution_count": 10,
   "metadata": {},
   "outputs": [
    {
     "name": "stdout",
     "output_type": "stream",
     "text": [
      "                       ME       RMSE        MAE        MPE      MAPE      MASE\n",
      "Training set 0.0005730622 0.03504883 0.02626034 0.01098898 0.4752815 0.2169522\n",
      "                   ACF1\n",
      "Training set 0.01443892\n"
     ]
    }
   ],
   "source": [
    "# Con el modelo automático\n",
    "pronostico_ma <- forecast(ma, h = h)\n",
    "\n",
    "# Evaluación de precisión (dentro de muestra)\n",
    "forecast::accuracy(pronostico_ma) %>%\n",
    "  print()"
   ]
  },
  {
   "cell_type": "markdown",
   "metadata": {},
   "source": [
    "### 🧠 **Interpretación orientada**\n",
    "\n",
    "* ¿Qué modelo obtiene mejor desempeño fuera de muestra?\n",
    "* ¿Se mantienen las ventajas del modelo automático frente al manual cuando evaluamos el pronóstico?\n",
    "* ¿Qué ocurre con la MAPE o la MASE cuando nos alejamos del periodo de entrenamiento?\n",
    "* ¿Qué impacto tiene la estacionalidad en el desempeño del modelo?\n",
    "\n",
    "---\n",
    "\n",
    "### 🧩 **Observación adicional**\n",
    "\n",
    "En algunos casos, las métricas del modelo manual pueden no aparecer o retornar `NaN`, especialmente si:\n",
    "\n",
    "* El modelo no genera un pronóstico válido por mal ajuste.\n",
    "* La serie transformada no tiene valores disponibles para comparar con los pronósticos (por ejemplo, si no hemos separado un conjunto de validación).\n"
   ]
  },
  {
   "cell_type": "markdown",
   "metadata": {},
   "source": [
    "### 📏 **Evaluación Alternativa con `yardstick` y Datos Simulados**\n",
    "\n",
    "En esta sección exploraremos una forma alternativa de evaluar modelos de pronóstico: simularemos una situación en la que ya contamos con observaciones reales correspondientes al periodo de pronóstico. Esto nos permite calcular métricas como `rmse`, `mae`, `mape` o `rsq` usando el paquete `yardstick`.\n",
    "\n",
    "> 🧪 Esta aproximación es especialmente útil cuando trabajamos con modelos que no son del tipo `forecast` (por ejemplo, modelos de Machine Learning), o cuando queremos un control más detallado del proceso.\n",
    "\n",
    "#### 📦 **Paso 1: Crear tibble con observados y predichos**\n"
   ]
  },
  {
   "cell_type": "code",
   "execution_count": 11,
   "metadata": {},
   "outputs": [],
   "source": [
    "library(tibble)\n",
    "library(dplyr)\n",
    "library(yardstick)\n",
    "\n",
    "# Simular comparación para el modelo manual\n",
    "df_resultados_mm <- tibble(\n",
    "  y = tail(log_ap, h),                    # Observaciones (últimos 12 valores)\n",
    "  y_hat = pronostico_mm$mean[1:h]        # Pronóstico del modelo manual\n",
    ")\n",
    "\n",
    "# Simular comparación para el modelo automático\n",
    "df_resultados_ma <- tibble(\n",
    "  y = tail(log_ap, h),                    # Observaciones (últimos 12 valores)\n",
    "  y_hat = pronostico_ma$mean[1:h]        # Pronóstico del modelo automático\n",
    ")\n"
   ]
  },
  {
   "cell_type": "markdown",
   "metadata": {},
   "source": [
    "#### 📐 **Paso 2: Calcular métricas con `yardstick`**\n"
   ]
  },
  {
   "cell_type": "code",
   "execution_count": 12,
   "metadata": {},
   "outputs": [
    {
     "name": "stdout",
     "output_type": "stream",
     "text": [
      "\u001b[90m# A tibble: 3 × 3\u001b[39m\n",
      "  .metric .estimator .estimate\n",
      "  \u001b[3m\u001b[90m<chr>\u001b[39m\u001b[23m   \u001b[3m\u001b[90m<chr>\u001b[39m\u001b[23m          \u001b[3m\u001b[90m<dbl>\u001b[39m\u001b[23m\n",
      "\u001b[90m1\u001b[39m rmse    standard      0.092\u001b[4m6\u001b[24m\n",
      "\u001b[90m2\u001b[39m rsq     standard      0.987 \n",
      "\u001b[90m3\u001b[39m mae     standard      0.090\u001b[4m9\u001b[24m\n",
      "\u001b[90m# A tibble: 3 × 3\u001b[39m\n",
      "  .metric .estimator .estimate\n",
      "  \u001b[3m\u001b[90m<chr>\u001b[39m\u001b[23m   \u001b[3m\u001b[90m<chr>\u001b[39m\u001b[23m          \u001b[3m\u001b[90m<dbl>\u001b[39m\u001b[23m\n",
      "\u001b[90m1\u001b[39m rmse    standard      0.090\u001b[4m1\u001b[24m\n",
      "\u001b[90m2\u001b[39m rsq     standard      0.987 \n",
      "\u001b[90m3\u001b[39m mae     standard      0.088\u001b[4m4\u001b[24m\n"
     ]
    }
   ],
   "source": [
    "# Evaluación del modelo manual\n",
    "df_resultados_mm %>%\n",
    "  metrics(truth = y, estimate = y_hat) %>%\n",
    "  print()\n",
    "\n",
    "# Evaluación del modelo automático\n",
    "df_resultados_ma %>%\n",
    "  metrics(truth = y, estimate = y_hat) %>%\n",
    "  print()\n"
   ]
  },
  {
   "cell_type": "markdown",
   "metadata": {},
   "source": [
    "### 💬 **Preguntas orientadoras**\n",
    "\n",
    "* ¿Las métricas obtenidas con `yardstick` coinciden con las de `forecast::accuracy()`?\n",
    "* ¿Qué ventajas ofrece este enfoque frente al anterior?\n",
    "* ¿Cómo se podrían utilizar estas métricas en un contexto de validación cruzada o pruebas repetidas?\n",
    "\n",
    "> 💡 *El uso de `yardstick` permite mayor flexibilidad, especialmente cuando usamos modelos fuera del ecosistema `forecast`, o cuando combinamos modelos clásicos con técnicas de aprendizaje automático.*\n"
   ]
  },
  {
   "cell_type": "markdown",
   "metadata": {},
   "source": [
    "### 🔁 **Validación Cruzada en Series Temporales**\n",
    "\n",
    "A diferencia de la validación cruzada tradicional (aleatoria), en series temporales es crucial respetar la **estructura secuencial del tiempo**. Por ello, empleamos métodos diseñados para evaluar el rendimiento de un modelo en distintos puntos del tiempo, proyectando únicamente hacia el futuro desde cada corte.\n",
    "\n",
    "---\n",
    "\n",
    "### 🔧 **Opción 1: Validación con `tsCV()` (paquete forecast)**\n",
    "\n",
    "`tsCV()` calcula errores de pronóstico repetidos en distintos puntos del tiempo, proyectando `h` pasos hacia adelante desde cada observación disponible.\n"
   ]
  },
  {
   "cell_type": "code",
   "execution_count": 13,
   "metadata": {},
   "outputs": [
    {
     "data": {
      "text/html": [
       "0.037456080997155"
      ],
      "text/latex": [
       "0.037456080997155"
      ],
      "text/markdown": [
       "0.037456080997155"
      ],
      "text/plain": [
       "[1] 0.03745608"
      ]
     },
     "metadata": {},
     "output_type": "display_data"
    }
   ],
   "source": [
    "# Horizonte de pronóstico\n",
    "h <- 12\n",
    "\n",
    "# Función objetivo para aplicar tsCV con modelo ARIMA manual\n",
    "errores_mm <- tsCV(log_ap, forecastfunction = function(y, h) {\n",
    "  forecast(Arima(y, model = mm), h = h)\n",
    "}, h = h)\n",
    "\n",
    "# Cálculo del error cuadrático medio (RMSE) para el primer paso de pronóstico\n",
    "sqrt(mean(errores_mm[, 1]^2, na.rm = TRUE))\n"
   ]
  },
  {
   "cell_type": "code",
   "execution_count": 14,
   "metadata": {},
   "outputs": [
    {
     "data": {
      "text/html": [
       "0.0375407179177828"
      ],
      "text/latex": [
       "0.0375407179177828"
      ],
      "text/markdown": [
       "0.0375407179177828"
      ],
      "text/plain": [
       "[1] 0.03754072"
      ]
     },
     "metadata": {},
     "output_type": "display_data"
    }
   ],
   "source": [
    "# Función objetivo para aplicar tsCV con modelo ARIMA automático\n",
    "errores_ma <- tsCV(log_ap, forecastfunction = function(y, h) {\n",
    "  forecast(Arima(y, model = ma), h = h)\n",
    "}, h = h)\n",
    "\n",
    "# Cálculo del error cuadrático medio (RMSE) para el primer paso de pronóstico\n",
    "sqrt(mean(errores_ma[, 1]^2, na.rm = TRUE))"
   ]
  },
  {
   "cell_type": "markdown",
   "metadata": {},
   "source": [
    "### 🔧 **Opción 2: Validación con `stretch_tsibble()` (ecosistema `fpp3`)**\n",
    "\n",
    "Este método permite simular ventanas crecientes o deslizantes de entrenamiento, útil para validar modelos entrenados con `fable`.\n"
   ]
  },
  {
   "cell_type": "code",
   "execution_count": 15,
   "metadata": {
    "scrolled": false
   },
   "outputs": [],
   "source": [
    "library(fabletools)\n",
    "\n",
    "# Crear ventanas crecientes desde un mínimo de 60 observaciones\n",
    "resamples <- ap_ts %>%\n",
    "  stretch_tsibble(.init = 60, .step = 12)"
   ]
  },
  {
   "cell_type": "code",
   "execution_count": 16,
   "metadata": {},
   "outputs": [
    {
     "name": "stderr",
     "output_type": "stream",
     "text": [
      "Warning message:\n",
      "\"The future dataset is incomplete, incomplete out-of-sample data will be treated as missing. \n",
      "12 observations are missing between 1961 ene. and 1961 dic.\"\n"
     ]
    }
   ],
   "source": [
    "# Entrenar modelo ARIMA con fable y evaluar pronósticos a 1 paso\n",
    "modelo_cv <- resamples %>%\n",
    "  model(arima = ARIMA(log_ap)) %>%\n",
    "  forecast(h = 12) %>%\n",
    "  forecast::accuracy(ap_ts)\n"
   ]
  },
  {
   "cell_type": "code",
   "execution_count": 17,
   "metadata": {},
   "outputs": [
    {
     "name": "stderr",
     "output_type": "stream",
     "text": [
      "Warning message:\n",
      "\"\u001b[1m\u001b[22mThere was 1 warning in `summarise()`.\n",
      "\u001b[1m\u001b[22m\u001b[36mℹ\u001b[39m In argument: `across(c(MAE, RMSE, MAPE, MASE), mean, na.rm = TRUE)`.\n",
      "\u001b[36mℹ\u001b[39m In group 1: `.model = \"arima\"`.\n",
      "Caused by warning:\n",
      "\u001b[1m\u001b[22m\u001b[33m!\u001b[39m The `...` argument of `across()` is deprecated as of dplyr 1.1.0.\n",
      "Supply arguments directly to `.fns` through an anonymous function instead.\n",
      "\n",
      "  # Previously\n",
      "  across(a:b, mean, na.rm = TRUE)\n",
      "\n",
      "  # Now\n",
      "  across(a:b, \\(x) mean(x, na.rm = TRUE))\"\n"
     ]
    },
    {
     "name": "stdout",
     "output_type": "stream",
     "text": [
      "\u001b[90m# A tibble: 1 × 5\u001b[39m\n",
      "  .model    MAE   RMSE  MAPE  MASE\n",
      "  \u001b[3m\u001b[90m<chr>\u001b[39m\u001b[23m   \u001b[3m\u001b[90m<dbl>\u001b[39m\u001b[23m  \u001b[3m\u001b[90m<dbl>\u001b[39m\u001b[23m \u001b[3m\u001b[90m<dbl>\u001b[39m\u001b[23m \u001b[3m\u001b[90m<dbl>\u001b[39m\u001b[23m\n",
      "\u001b[90m1\u001b[39m arima  0.042\u001b[4m4\u001b[24m 0.058\u001b[4m4\u001b[24m 0.736 0.350\n"
     ]
    }
   ],
   "source": [
    "\n",
    "# Visualizar métricas promedio\n",
    "modelo_cv %>%\n",
    "  group_by(.model) %>%\n",
    "  summarise(across(c(MAE, RMSE, MAPE, MASE), mean, na.rm = TRUE)) %>%\n",
    "  print()"
   ]
  },
  {
   "cell_type": "code",
   "execution_count": 18,
   "metadata": {},
   "outputs": [
    {
     "name": "stderr",
     "output_type": "stream",
     "text": [
      "Warning message:\n",
      "\"The future dataset is incomplete, incomplete out-of-sample data will be treated as missing. \n",
      "12 observations are missing between 1961 ene. and 1961 dic.\"\n"
     ]
    }
   ],
   "source": [
    "# Modelo especificado explícitamente como (0,1,1)(0,1,1)[12]\n",
    "modelo_cva <- resamples %>%\n",
    "  model(arima = ARIMA(log_ap ~ pdq(0,1,1) + PDQ(0,1,1))) %>%\n",
    "  forecast(h = 12) %>%\n",
    "  forecast::accuracy(ap_ts)\n"
   ]
  },
  {
   "cell_type": "code",
   "execution_count": 19,
   "metadata": {},
   "outputs": [
    {
     "name": "stdout",
     "output_type": "stream",
     "text": [
      "\u001b[90m# A tibble: 1 × 5\u001b[39m\n",
      "  .model    MAE   RMSE  MAPE  MASE\n",
      "  \u001b[3m\u001b[90m<chr>\u001b[39m\u001b[23m   \u001b[3m\u001b[90m<dbl>\u001b[39m\u001b[23m  \u001b[3m\u001b[90m<dbl>\u001b[39m\u001b[23m \u001b[3m\u001b[90m<dbl>\u001b[39m\u001b[23m \u001b[3m\u001b[90m<dbl>\u001b[39m\u001b[23m\n",
      "\u001b[90m1\u001b[39m arima  0.041\u001b[4m0\u001b[24m 0.053\u001b[4m9\u001b[24m 0.701 0.339\n"
     ]
    }
   ],
   "source": [
    "# Visualizar métricas promedio\n",
    "modelo_cva %>%\n",
    "  group_by(.model) %>%\n",
    "  summarise(across(c(MAE, RMSE, MAPE, MASE), mean, na.rm = TRUE)) %>%\n",
    "  print()"
   ]
  },
  {
   "cell_type": "markdown",
   "metadata": {},
   "source": [
    "\n",
    "### 💬 **Preguntas para discusión**\n",
    "\n",
    "* ¿Qué ventajas ofrece `tsCV()` frente a un único corte de entrenamiento y prueba?\n",
    "* ¿Qué implicaciones tiene la elección del horizonte `h` en el error obtenido?\n",
    "* ¿Notas alguna diferencia en la estabilidad del error según la técnica usada?\n",
    "* ¿Qué estrategias de validación usarías en un caso con datos altamente estacionales?\n",
    "\n",
    "---\n",
    "\n",
    "> 💡 *Validar un modelo de series temporales implica más que medir su ajuste; se trata de entender su comportamiento ante distintos escenarios de predicción, especialmente fuera de muestra.*\n"
   ]
  }
 ],
 "metadata": {
  "kernelspec": {
   "display_name": "R",
   "language": "R",
   "name": "ir"
  }
 },
 "nbformat": 4,
 "nbformat_minor": 2
}
