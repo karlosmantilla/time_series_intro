{
 "cells": [
  {
   "cell_type": "markdown",
   "id": "216b3242",
   "metadata": {},
   "source": [
    "<center>\n",
    "    <h1><font size=\"16\">Especialización en Estadística</font></h1>\n",
    "    <h1><font size=\"12\">SERIES DE TIEMPO</font></h1>\n",
    "</center>"
   ]
  },
  {
   "cell_type": "markdown",
   "id": "1a904434",
   "metadata": {},
   "source": [
    "<h2>🎓 Taller Práctico – Estacionariedad, Diferenciación y Autocorrelación</h2>\n",
    "\n",
    "<h3>🎯 **Objetivo del taller**</h3>\n",
    "\n",
    "Guiar al estudiante en la **identificación de la no estacionariedad** en una serie temporal real, mediante el análisis gráfico, pruebas estadísticas y transformaciones básicas (logaritmo y diferenciación), y familiarizarlo con el uso e interpretación de las funciones de **autocorrelación (ACF)** y **autocorrelación parcial (PACF)** como herramientas para el diagnóstico preliminar de modelos ARIMA.\n",
    "\n",
    "**📊 Análisis de la serie `AirPassengers`**\n",
    "\n",
    "---\n",
    "\n",
    "<h3>📦 Requisitos previos</h3>"
   ]
  },
  {
   "cell_type": "code",
   "execution_count": 1,
   "id": "8e1d9d85",
   "metadata": {},
   "outputs": [
    {
     "name": "stderr",
     "output_type": "stream",
     "text": [
      "Registered S3 method overwritten by 'tsibble':\n",
      "  method               from \n",
      "  as_tibble.grouped_df dplyr\n",
      "\n",
      "── \u001b[1mAttaching packages\u001b[22m ─────────────────────────────────────────────────────────────────────────────────── fpp3 1.0.1 ──\n",
      "\n",
      "\u001b[32m✔\u001b[39m \u001b[34mtibble     \u001b[39m 3.2.1     \u001b[32m✔\u001b[39m \u001b[34mtsibble    \u001b[39m 1.1.6\n",
      "\u001b[32m✔\u001b[39m \u001b[34mdplyr      \u001b[39m 1.1.4     \u001b[32m✔\u001b[39m \u001b[34mtsibbledata\u001b[39m 0.4.1\n",
      "\u001b[32m✔\u001b[39m \u001b[34mtidyr      \u001b[39m 1.3.1     \u001b[32m✔\u001b[39m \u001b[34mfeasts     \u001b[39m 0.4.1\n",
      "\u001b[32m✔\u001b[39m \u001b[34mlubridate  \u001b[39m 1.9.4     \u001b[32m✔\u001b[39m \u001b[34mfable      \u001b[39m 0.4.1\n",
      "\u001b[32m✔\u001b[39m \u001b[34mggplot2    \u001b[39m 3.5.1     \n",
      "\n",
      "── \u001b[1mConflicts\u001b[22m ──────────────────────────────────────────────────────────────────────────────────────── fpp3_conflicts ──\n",
      "\u001b[31m✖\u001b[39m \u001b[34mlubridate\u001b[39m::\u001b[32mdate()\u001b[39m    masks \u001b[34mbase\u001b[39m::date()\n",
      "\u001b[31m✖\u001b[39m \u001b[34mdplyr\u001b[39m::\u001b[32mfilter()\u001b[39m      masks \u001b[34mstats\u001b[39m::filter()\n",
      "\u001b[31m✖\u001b[39m \u001b[34mtsibble\u001b[39m::\u001b[32mintersect()\u001b[39m masks \u001b[34mbase\u001b[39m::intersect()\n",
      "\u001b[31m✖\u001b[39m \u001b[34mtsibble\u001b[39m::\u001b[32minterval()\u001b[39m  masks \u001b[34mlubridate\u001b[39m::interval()\n",
      "\u001b[31m✖\u001b[39m \u001b[34mdplyr\u001b[39m::\u001b[32mlag()\u001b[39m         masks \u001b[34mstats\u001b[39m::lag()\n",
      "\u001b[31m✖\u001b[39m \u001b[34mtsibble\u001b[39m::\u001b[32msetdiff()\u001b[39m   masks \u001b[34mbase\u001b[39m::setdiff()\n",
      "\u001b[31m✖\u001b[39m \u001b[34mtsibble\u001b[39m::\u001b[32munion()\u001b[39m     masks \u001b[34mbase\u001b[39m::union()\n",
      "\n",
      "Registered S3 method overwritten by 'quantmod':\n",
      "  method            from\n",
      "  as.zoo.data.frame zoo \n",
      "\n",
      "\n",
      "Adjuntando el paquete: 'ggpubr'\n",
      "\n",
      "\n",
      "The following object is masked from 'package:forecast':\n",
      "\n",
      "    gghistogram\n",
      "\n",
      "\n"
     ]
    }
   ],
   "source": [
    "# Cargar paquetes necesarios\n",
    "\n",
    "library(fpp3)      # Framework moderno para series de tiempo:\n",
    "                   # incluye tsibble (estructura de series),\n",
    "                   # funciones de modelado (ARIMA, ETS),\n",
    "                   # autoplot() para visualización rápida.\n",
    "\n",
    "library(tseries)   # Incluye la prueba de raíz unitaria Augmented Dickey-Fuller (adf.test),\n",
    "                   # útil para evaluar estacionariedad de series.\n",
    "\n",
    "library(forecast)  # Paquete tradicional con funciones como auto.arima, hw, ets,\n",
    "                   # y visualización con ggAcf y ggPacf.\n",
    "\n",
    "library(ggplot2)   # Sistema de gráficos de R. Se usa como base para visualizaciones\n",
    "                   # personalizadas y para complementar autoplot.\n",
    "\n",
    "library(ggpubr)    # Facilita la disposición de múltiples gráficos en una sola figura,\n",
    "                   # por ejemplo con ggarrange().\n"
   ]
  },
  {
   "cell_type": "markdown",
   "id": "69a8a6a8",
   "metadata": {},
   "source": [
    "<h3>🛠 Paso 1: Cargar y visualizar la serie original</h3>"
   ]
  },
  {
   "cell_type": "code",
   "execution_count": 2,
   "id": "53c719f3",
   "metadata": {},
   "outputs": [
    {
     "name": "stderr",
     "output_type": "stream",
     "text": [
      "Plot variable not specified, automatically selected `.vars = value`\n"
     ]
    },
    {
     "data": {
      "image/png": "[encoded data removed]",
      "text/plain": [
       "plot without title"
      ]
     },
     "metadata": {
      "image/png": {
       "height": 420,
       "width": 420
      }
     },
     "output_type": "display_data"
    }
   ],
   "source": [
    "# Convertir a tsibble\n",
    "ap <- as_tsibble(AirPassengers)\n",
    "\n",
    "# Visualizar\n",
    "autoplot(ap) +\n",
    "  labs(\n",
    "    title = \"Pasajeros aéreos mensuales (1949-1960)\",\n",
    "    y = \"Miles de pasajeros\",\n",
    "    x = \"Fecha\"\n",
    "  ) +\n",
    "  theme_minimal()\n"
   ]
  },
  {
   "cell_type": "markdown",
   "id": "ca11114b",
   "metadata": {},
   "source": [
    "📌 **Preguntas:**\n",
    "- ¿Observas una tendencia creciente?\n",
    "- ¿Notas estacionalidad? ¿Cómo se manifiesta?\n",
    "- ¿La variabilidad parece constante o creciente?\n",
    "\n",
    "---\n",
    "\n",
    "<h3>🛠 Paso 2: Evaluación formal de estacionariedad (ADF test)</h3>"
   ]
  },
  {
   "cell_type": "code",
   "execution_count": 3,
   "id": "96bd3e17",
   "metadata": {},
   "outputs": [
    {
     "name": "stderr",
     "output_type": "stream",
     "text": [
      "Warning message in adf.test(AirPassengers):\n",
      "\"p-value smaller than printed p-value\"\n"
     ]
    },
    {
     "data": {
      "text/plain": [
       "\n",
       "\tAugmented Dickey-Fuller Test\n",
       "\n",
       "data:  AirPassengers\n",
       "Dickey-Fuller = -7.3186, Lag order = 5, p-value = 0.01\n",
       "alternative hypothesis: stationary\n"
      ]
     },
     "metadata": {},
     "output_type": "display_data"
    }
   ],
   "source": [
    "adf.test(AirPassengers)"
   ]
  },
  {
   "cell_type": "markdown",
   "id": "c2cf81ad",
   "metadata": {},
   "source": [
    "📌 **Indicaciones:**\n",
    "- La **hipótesis nula** es que la serie tiene **raíz unitaria** → es **no estacionaria**.\n",
    "- Observa el **p-valor** para tomar una decisión.\n",
    "\n",
    "**✅ Interpretación**\n",
    "- El valor del estadístico de prueba es -7.3186, lo cual es suficientemente bajo como para rechazar la hipótesis nula.\n",
    "- El p-valor = 0.01 indica que, al nivel de significancia del 5%, se rechaza la hipótesis nula de raíz unitaria (si $\\alpha = 0.01$ estaríamos ante la misma decición ya que, según indica el software, el p-valor es mucho más pequeño que 0.01).\n",
    "- Por lo tanto, el test sugiere que la serie es estacionaria.\n",
    "- Aunque el p-valor sugiere **rechazar la hipótesis nula de raíz unitaria**, el resultado **no es confiable en este caso por varias razones**:\n",
    "\n",
    "**🚨 Razones para cuestionar el resultado**\n",
    "1. **Violación de supuestos del ADF**:\n",
    "   - La prueba **no es robusta ante estacionalidad** (`AirPassengers` es estacional).\n",
    "   - No se han aplicado **transformaciones previas (como logaritmo o diferenciación)** necesarias para estabilizar la varianza y eliminar tendencia.\n",
    "2. **Falsos negativos posibles**:\n",
    "   - Las pruebas de raíz unitaria como ADF pueden indicar **falsamente estacionariedad** cuando hay **estacionalidad fuerte** o **tendencia determinística**.\n",
    "\n",
    "3. **Análisis gráfico lo contradice**:\n",
    "   - El gráfico de la serie muestra **tendencia creciente clara** y **varianza creciente**, típico de una serie **no estacionaria**.\n",
    "\n",
    "**✅ ¿Qué hacer?**\n",
    "\n",
    "En la práctica, **se recomienda aplicar transformaciones** antes de correr la prueba:\n",
    "\n",
    "1. **Logaritmo** para estabilizar la varianza.\n",
    "2. **Diferenciación** para remover tendencia.\n",
    "3. Luego, aplicar `adf.test()` sobre la serie transformada.\n",
    "\n",
    "<h3>🛠 Paso 3: Aplicar transformación logarítmica y diferenciación</h3>"
   ]
  },
  {
   "cell_type": "code",
   "execution_count": 4,
   "id": "e7412b0a",
   "metadata": {},
   "outputs": [
    {
     "name": "stderr",
     "output_type": "stream",
     "text": [
      "Plot variable not specified, automatically selected `.vars = value`\n"
     ]
    },
    {
     "data": {
      "image/png": "[encoded data removed]",
      "text/plain": [
       "plot without title"
      ]
     },
     "metadata": {
      "image/png": {
       "height": 420,
       "width": 420
      }
     },
     "output_type": "display_data"
    }
   ],
   "source": [
    "# Diferenciación logarítmica (común en modelos multiplicativos)\n",
    "diff_log_ap <- diff(log(AirPassengers))\n",
    "\n",
    "# Visualizar la serie transformada\n",
    "autoplot(as_tsibble(diff_log_ap)) +\n",
    "  labs(\n",
    "    title = \"Serie diferenciada logarítmicamente (d = 1)\",\n",
    "    y = \"Diferencias logarítmicas\",\n",
    "    x = \"Fecha\"\n",
    "  ) +\n",
    "  theme_minimal()"
   ]
  },
  {
   "cell_type": "markdown",
   "id": "c6f6452a",
   "metadata": {},
   "source": [
    "📌 **Preguntas:**\n",
    "- ¿La serie transformada parece más estacionaria?\n",
    "- ¿Persiste la estacionalidad?\n",
    "\n",
    "---\n",
    "\n",
    "<h3>🛠 Paso 4: Prueba de estacionariedad sobre la serie diferenciada</h3>"
   ]
  },
  {
   "cell_type": "code",
   "execution_count": 5,
   "id": "5551fff6",
   "metadata": {},
   "outputs": [
    {
     "name": "stderr",
     "output_type": "stream",
     "text": [
      "Warning message in adf.test(diff_log_ap):\n",
      "\"p-value smaller than printed p-value\"\n"
     ]
    },
    {
     "data": {
      "text/plain": [
       "\n",
       "\tAugmented Dickey-Fuller Test\n",
       "\n",
       "data:  diff_log_ap\n",
       "Dickey-Fuller = -6.4313, Lag order = 5, p-value = 0.01\n",
       "alternative hypothesis: stationary\n"
      ]
     },
     "metadata": {},
     "output_type": "display_data"
    }
   ],
   "source": [
    "adf.test(diff_log_ap)"
   ]
  },
  {
   "cell_type": "markdown",
   "id": "c1d62c99",
   "metadata": {},
   "source": [
    "📌 **Indicaciones:**\n",
    "- Si ahora se rechaza la hipótesis nula (p-valor < 0.05), entonces la serie **sí es estacionaria** tras la transformación.\n",
    "\n",
    "**✅ Interpretación**\n",
    "\n",
    "- El **estadístico ADF = -6.4313** y el **p-valor < 0.01** (mensaje de advertencia indica que es menor a la precisión impresa).\n",
    "- Se **rechaza la hipótesis nula** de presencia de raíz unitaria.\n",
    "- La serie **diferenciada y transformada con logaritmo** puede considerarse **estacionaria**.\n",
    "- Esto valida que las transformaciones aplicadas (log + diff) fueron adecuadas para preparar la serie antes de identificar el modelo ARIMA.\n"
   ]
  },
  {
   "cell_type": "markdown",
   "id": "7ca07f70",
   "metadata": {},
   "source": [
    "<h3>🛠 Paso 5: Funciones de autocorrelación y autocorrelación parcial</h3>"
   ]
  },
  {
   "cell_type": "code",
   "execution_count": 6,
   "id": "c27acf48",
   "metadata": {},
   "outputs": [
    {
     "data": {
      "image/png": "[encoded data removed]",
      "text/plain": [
       "Plot with title \"PACF - Serie diferenciada\""
      ]
     },
     "metadata": {
      "image/png": {
       "height": 420,
       "width": 420
      }
     },
     "output_type": "display_data"
    }
   ],
   "source": [
    "par(mfrow = c(1, 2))\n",
    "acf(diff_log_ap, main = \"ACF - Serie diferenciada\")\n",
    "pacf(diff_log_ap, main = \"PACF - Serie diferenciada\")"
   ]
  },
  {
   "cell_type": "markdown",
   "id": "178038be",
   "metadata": {},
   "source": [
    "📌 **Preguntas para discusión:**\n",
    "1. ¿Dónde se corta la ACF? ¿Y la PACF?\n",
    "2. ¿Puedes deducir valores tentativos para $p$ (AR) y $q$ (MA)?\n",
    "3. ¿Hay signos de autocorrelación estacional (cada 12 meses)?"
   ]
  },
  {
   "cell_type": "code",
   "execution_count": 7,
   "id": "aef23155",
   "metadata": {},
   "outputs": [
    {
     "data": {
      "image/png": "[encoded data removed]",
      "text/plain": [
       "plot without title"
      ]
     },
     "metadata": {
      "image/png": {
       "height": 420,
       "width": 420
      }
     },
     "output_type": "display_data"
    }
   ],
   "source": [
    "# Serie transformada y diferenciada (debe estar definida antes)\n",
    "serie <- diff_log_ap\n",
    "\n",
    "# Visualización comparativa\n",
    "ggarrange(\n",
    "  ggAcf(serie, lag.max = 48) +\n",
    "    labs(title = \"ACF de la serie diferenciada\",\n",
    "         x = \"Rezago\", y = \"Correlación\") +\n",
    "    theme_minimal(),\n",
    "\n",
    "  ggPacf(serie, lag.max = 48) +\n",
    "    labs(title = \"PACF de la serie diferenciada\",\n",
    "         x = \"Rezago\", y = \"Correlación parcial\") +\n",
    "    theme_minimal(),\n",
    "\n",
    "  ggAcf(serie, lag.max = 48) +\n",
    "    geom_vline(xintercept = seq(12, 48, by = 12),\n",
    "               color = \"red\", linetype = \"dashed\", linewidth = 0.5) +\n",
    "    labs(title = \"ACF resaltando rezagos estacionales\",\n",
    "         subtitle = \"Líneas rojas: rezagos 12, 24, 36...\",\n",
    "         x = \"Rezago\", y = \"Correlación\") +\n",
    "    theme_minimal(),\n",
    "\n",
    "  ggPacf(serie, lag.max = 48) +\n",
    "    geom_vline(xintercept = seq(12, 48, by = 12),\n",
    "               color = \"red\", linetype = \"dashed\", linewidth = 0.5) +\n",
    "    labs(title = \"PACF resaltando rezagos estacionales\",\n",
    "         subtitle = \"Líneas rojas: rezagos 12, 24, 36...\",\n",
    "         x = \"Rezago\", y = \"Correlación parcial\") +\n",
    "    theme_minimal()\n",
    ")\n"
   ]
  },
  {
   "cell_type": "markdown",
   "id": "a9d99fcc",
   "metadata": {},
   "source": [
    "**🔍 Análisis de la imagen**\n",
    "\n",
    "📈 **ACF (izquierda)**\n",
    "\n",
    "- Se observa una **disminución lenta** de las barras, manteniéndose significativas en muchos rezagos.\n",
    "- Este comportamiento es **típico de una serie no estacionaria**, en especial cuando hay **tendencia** o **componente estacional fuerte** no diferenciada.\n",
    "- La caída no es abrupta, sino que las autocorrelaciones se **van atenuando de forma progresiva** → señal de memoria a largo plazo.\n",
    "\n",
    "📈 **PACF (derecha)**\n",
    "\n",
    "- Hay un **pico muy significativo en el primer rezago**, luego los valores bajan rápidamente (aunque algunos aún caen ligeramente fuera del intervalo de confianza).\n",
    "- Este patrón es característico de un modelo **AR(1)** (aunque con posibilidad de orden mayor si los rezagos 2 o 3 también resultan significativos).\n",
    "\n",
    "---\n",
    "\n",
    "**🧠 Posible interpretación del modelo**\n",
    "\n",
    "Con base en estos gráficos podríamos **proponer un modelo ARIMA tentativo**:\n",
    "\n",
    "- **ACF que decrece lentamente** sugiere un componente **AR** en lugar de MA.\n",
    "- **PACF con corte en rezago 1** sugiere un posible **AR(1)**.\n",
    "- Si la serie fue previamente diferenciada (como `diff(log(AirPassengers))`), entonces estaríamos observando el comportamiento de una serie estacionaria → lo cual es coherente.\n",
    "\n",
    "**Modelo tentativo:** `ARIMA(1,1,0)` o `ARIMA(1,1,0)(P,D,Q)[s]` si hay estacionalidad (que en `AirPassengers` suele estar en \\( s = 12 \\)).\n",
    "\n",
    "---\n",
    "\n",
    "<h3>✅ Cierre del taller</h3>\n",
    "\n",
    "📌 Este taller ha permitido explorar paso a paso:\n",
    "\n",
    "- La **estructura visual** de una serie no estacionaria.\n",
    "- El **uso de pruebas formales** para detectar raíz unitaria.\n",
    "- La **diferenciación logarítmica** como técnica para estabilizar varianza y eliminar tendencia.\n",
    "- El uso de **ACF y PACF** para hacer una primera aproximación al modelo ARIMA más adecuado.\n",
    "\n",
    "> En el siguiente bloque se construirá el modelo completo, incluyendo la validación de supuestos, estimación de parámetros y uso de `auto.arima()` para comparación."
   ]
  }
 ],
 "metadata": {
  "kernelspec": {
   "display_name": "R",
   "language": "R",
   "name": "ir"
  },
  "language_info": {
   "codemirror_mode": "r",
   "file_extension": ".r",
   "mimetype": "text/x-r-source",
   "name": "R",
   "pygments_lexer": "r",
   "version": "4.4.3"
  }
 },
 "nbformat": 4,
 "nbformat_minor": 5
}
