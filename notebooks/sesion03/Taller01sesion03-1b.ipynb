{
 "cells": [
  {
   "cell_type": "markdown",
   "metadata": {},
   "source": [
    "<center>\n",
    "    <h1><font size=\"16\">Especialización en Estadística</font></h1>\n",
    "    <h1><font size=\"12\">SERIES DE TIEMPO</font></h1>\n",
    "</center>"
   ]
  },
  {
   "cell_type": "markdown",
   "metadata": {},
   "source": [
    "<h2>🎓 Taller Práctico – Evaluación de Modelos de Pronóstico</h2>\n",
    "\n",
    "<h3>📘 Introducción</h3>\n",
    "<p>En este taller trabajaremos con la serie <strong>AirPassengers</strong> para evaluar el desempeño de diferentes modelos de pronóstico. Nos centraremos en la comparación entre modelos manuales (ARIMA y SARIMA) y modelos automáticos (auto.arima), utilizando métricas como <strong>MAE, RMSE, MAPE y MASE</strong>. También exploraremos brevemente cómo implementar una validación cruzada adaptada a series de tiempo.</p>\n",
    "\n",
    "<h3>🎯 Objetivos</h3>\n",
    "<ul>\n",
    "  <li>Comparar modelos de pronóstico mediante métricas estándar.</li>\n",
    "  <li>Visualizar y analizar residuos para evaluar la validez de los modelos.</li>\n",
    "  <li>Aplicar técnicas básicas de validación cruzada temporal.</li>\n",
    "</ul>\n",
    "\n",
    "**📊 Análisis de la serie `AirPassengers`**\n",
    "\n",
    "---\n",
    "\n",
    "<h3>📦 Requisitos previos</h3>"
   ]
  },
  {
   "cell_type": "code",
   "execution_count": 1,
   "metadata": {},
   "outputs": [
    {
     "name": "stderr",
     "output_type": "stream",
     "text": [
      "Registered S3 method overwritten by 'tsibble':\n",
      "  method               from \n",
      "  as_tibble.grouped_df dplyr\n",
      "\n",
      "── \u001b[1mAttaching packages\u001b[22m ──────────────────────────────────────────────────────────────────────────────────── fpp3 1.0.1 ──\n",
      "\n",
      "\u001b[32m✔\u001b[39m \u001b[34mtibble     \u001b[39m 3.2.1     \u001b[32m✔\u001b[39m \u001b[34mtsibble    \u001b[39m 1.1.6\n",
      "\u001b[32m✔\u001b[39m \u001b[34mdplyr      \u001b[39m 1.1.4     \u001b[32m✔\u001b[39m \u001b[34mtsibbledata\u001b[39m 0.4.1\n",
      "\u001b[32m✔\u001b[39m \u001b[34mtidyr      \u001b[39m 1.3.1     \u001b[32m✔\u001b[39m \u001b[34mfeasts     \u001b[39m 0.4.1\n",
      "\u001b[32m✔\u001b[39m \u001b[34mlubridate  \u001b[39m 1.9.4     \u001b[32m✔\u001b[39m \u001b[34mfable      \u001b[39m 0.4.1\n",
      "\u001b[32m✔\u001b[39m \u001b[34mggplot2    \u001b[39m 3.5.2     \n",
      "\n",
      "── \u001b[1mConflicts\u001b[22m ───────────────────────────────────────────────────────────────────────────────────────── fpp3_conflicts ──\n",
      "\u001b[31m✖\u001b[39m \u001b[34mlubridate\u001b[39m::\u001b[32mdate()\u001b[39m    masks \u001b[34mbase\u001b[39m::date()\n",
      "\u001b[31m✖\u001b[39m \u001b[34mdplyr\u001b[39m::\u001b[32mfilter()\u001b[39m      masks \u001b[34mstats\u001b[39m::filter()\n",
      "\u001b[31m✖\u001b[39m \u001b[34mtsibble\u001b[39m::\u001b[32mintersect()\u001b[39m masks \u001b[34mbase\u001b[39m::intersect()\n",
      "\u001b[31m✖\u001b[39m \u001b[34mtsibble\u001b[39m::\u001b[32minterval()\u001b[39m  masks \u001b[34mlubridate\u001b[39m::interval()\n",
      "\u001b[31m✖\u001b[39m \u001b[34mdplyr\u001b[39m::\u001b[32mlag()\u001b[39m         masks \u001b[34mstats\u001b[39m::lag()\n",
      "\u001b[31m✖\u001b[39m \u001b[34mtsibble\u001b[39m::\u001b[32msetdiff()\u001b[39m   masks \u001b[34mbase\u001b[39m::setdiff()\n",
      "\u001b[31m✖\u001b[39m \u001b[34mtsibble\u001b[39m::\u001b[32munion()\u001b[39m     masks \u001b[34mbase\u001b[39m::union()\n",
      "\n",
      "Registered S3 method overwritten by 'quantmod':\n",
      "  method            from\n",
      "  as.zoo.data.frame zoo \n",
      "\n",
      "\n",
      "Adjuntando el paquete: 'yardstick'\n",
      "\n",
      "\n",
      "The following object is masked from 'package:forecast':\n",
      "\n",
      "    accuracy\n",
      "\n",
      "\n",
      "The following object is masked from 'package:fabletools':\n",
      "\n",
      "    accuracy\n",
      "\n",
      "\n"
     ]
    }
   ],
   "source": [
    "# Cargar paquetes necesarios\n",
    "\n",
    "library(fpp3)      # Framework moderno para series de tiempo:\n",
    "                   # incluye tsibble, modelado ARIMA/ETS y visualización con autoplot.\n",
    "\n",
    "library(forecast)  # Paquete tradicional con funciones como forecast(), accuracy(),\n",
    "                   # y herramientas complementarias como tsCV() y checkresiduals().\n",
    "\n",
    "library(yardstick) # Permite calcular métricas personalizadas de error (MAE, RMSE, MAPE, etc.)\n",
    "                   # útil especialmente para objetos fuera del ecosistema forecast.\n",
    "\n",
    "library(ggplot2)   # Sistema de visualización de datos. Usado para personalizar gráficos\n",
    "                   # y construir visualizaciones comparativas de errores.\n",
    "\n",
    "library(tsibble)   # Estructura moderna de datos para series de tiempo en R;\n",
    "                   # imprescindible para trabajar con fpp3 y validación cruzada.\n"
   ]
  },
  {
   "cell_type": "markdown",
   "metadata": {},
   "source": [
    "🔍 **Preparación de la serie**\n",
    "\n",
    "A continuación, vamos a realizar la carga y transformación de la serie `AirPassengers`. Luego aplicaremos las transformaciones necesarias para su análisis y modelado posterior:"
   ]
  },
  {
   "cell_type": "code",
   "execution_count": 2,
   "metadata": {},
   "outputs": [],
   "source": [
    "# Serie original: pasajeros mensuales de aerolíneas\n",
    "ap <- AirPassengers\n",
    "\n",
    "# Transformación a logaritmo natural\n",
    "log_ap <- log(ap)\n",
    "\n",
    "# Diferenciación regular (orden 1)\n",
    "diff1_log_ap <- diff(log_ap)\n",
    "\n",
    "# Diferenciación estacional (periodo 12)\n",
    "diff2_log_ap <- diff(diff1_log_ap, lag = 12)\n",
    "\n",
    "# También puede usarse directamente:\n",
    "# diff2_log_ap <- diff(log_ap, differences = 1) |> diff(lag = 12)"
   ]
  },
  {
   "cell_type": "markdown",
   "metadata": {},
   "source": [
    "## 🔧 Estimación de parámetros\n",
    "\n",
    "Una vez transformada la serie y confirmada su **estacionariedad**, podemos proceder a la **identificación estructural del modelo ARIMA/SARIMA**. Esto implica determinar los órdenes $p, d, q$ (y si es estacional, $P, D, Q$) con base en los patrones de **autocorrelación** y **autocorrelación parcial**.\n",
    "\n",
    "### 🔍 1. Verificación de estacionariedad con prueba ADF\n"
   ]
  },
  {
   "cell_type": "code",
   "execution_count": 3,
   "metadata": {},
   "outputs": [
    {
     "name": "stderr",
     "output_type": "stream",
     "text": [
      "Warning message in adf.test(diff2_log_ap):\n",
      "\"p-value smaller than printed p-value\"\n"
     ]
    },
    {
     "data": {
      "text/plain": [
       "\n",
       "\tAugmented Dickey-Fuller Test\n",
       "\n",
       "data:  diff2_log_ap\n",
       "Dickey-Fuller = -5.1993, Lag order = 5, p-value = 0.01\n",
       "alternative hypothesis: stationary\n"
      ]
     },
     "metadata": {},
     "output_type": "display_data"
    }
   ],
   "source": [
    "library(tseries)\n",
    "\n",
    "# Segunda diferenciación sobre la serie logarítmica\n",
    "diff2_log_ap <- diff(diff(log_ap), lag = 12)\n",
    "\n",
    "# Prueba Dickey-Fuller aumentada\n",
    "adf.test(diff2_log_ap)\n"
   ]
  },
  {
   "cell_type": "markdown",
   "metadata": {},
   "source": [
    "📌 **Preguntas:**\n",
    "- ¿Qué nos dice la prueba sobre la estacionariedad de la serie?\n",
    "- ¿Las otras expresiones tienen la misma característica?\n",
    "- ¿Cuál crees trasnformación deberíamos emplear?\n",
    "\n",
    "---\n",
    "\n",
    "<h3>🔍 2. Análisis gráfico con ACF y PACF</h3>\n"
   ]
  },
  {
   "cell_type": "code",
   "execution_count": 4,
   "metadata": {},
   "outputs": [
    {
     "name": "stderr",
     "output_type": "stream",
     "text": [
      "\n",
      "Adjuntando el paquete: 'ggpubr'\n",
      "\n",
      "\n",
      "The following object is masked from 'package:forecast':\n",
      "\n",
      "    gghistogram\n",
      "\n",
      "\n"
     ]
    },
    {
     "data": {
      "image/png": "[encoded data removed]",
      "text/plain": [
       "plot without title"
      ]
     },
     "metadata": {
      "image/png": {
       "height": 420,
       "width": 420
      }
     },
     "output_type": "display_data"
    }
   ],
   "source": [
    "library(forecast)\n",
    "library(ggpubr)\n",
    "\n",
    "ggarrange(\n",
    "  ggAcf(diff1_log_ap, lag.max = 48) +\n",
    "    labs(title = \"ACF - Serie diferenciada\", x = \"Rezago\", y = \"ACF\") +\n",
    "    theme_minimal(),\n",
    "\n",
    "  ggPacf(diff1_log_ap, lag.max = 48) +\n",
    "    labs(title = \"PACF - Serie diferenciada\", x = \"Rezago\", y = \"PACF\") +\n",
    "    theme_minimal()\n",
    ")\n"
   ]
  },
  {
   "cell_type": "markdown",
   "metadata": {},
   "source": [
    "📌 **Preguntas:**\n",
    "- ¿Qué nos indican las gráficas `ACF` y `PACF`?\n",
    "- ¿Difiere el comportamiento con el de las otras y transformaciones?\n",
    "- ¿Cómo deberíamos utilizar estos resultados?\n",
    "\n",
    "---\n",
    "\n",
    "### 📐 3. Identificación asistida con `armasubsets()`\n"
   ]
  },
  {
   "cell_type": "code",
   "execution_count": 5,
   "metadata": {},
   "outputs": [
    {
     "name": "stderr",
     "output_type": "stream",
     "text": [
      "Registered S3 methods overwritten by 'TSA':\n",
      "  method       from    \n",
      "  fitted.Arima forecast\n",
      "  plot.Arima   forecast\n",
      "\n",
      "\n",
      "Adjuntando el paquete: 'TSA'\n",
      "\n",
      "\n",
      "The following object is masked from 'package:yardstick':\n",
      "\n",
      "    spec\n",
      "\n",
      "\n",
      "The following objects are masked from 'package:stats':\n",
      "\n",
      "    acf, arima\n",
      "\n",
      "\n",
      "The following object is masked from 'package:utils':\n",
      "\n",
      "    tar\n",
      "\n",
      "\n"
     ]
    },
    {
     "data": {
      "image/png": "[encoded data removed]",
      "text/plain": [
       "plot without title"
      ]
     },
     "metadata": {
      "image/png": {
       "height": 420,
       "width": 420
      }
     },
     "output_type": "display_data"
    }
   ],
   "source": [
    "library(TSA)\n",
    "plot(armasubsets(diff1_log_ap, nar = 14, nma = 14, ar.method = \"ols\") )"
   ]
  },
  {
   "cell_type": "markdown",
   "metadata": {},
   "source": [
    "📌 **Preguntas:**\n",
    "- ¿Qué representan los ejes de esta gráfica y cómo se interpretan?\n",
    "- ¿Las otras expresiones tienen la misma característica?\n",
    "- ¿Cuál crees que es la utilidad de esta gráfica?\n",
    "\n",
    "---\n",
    "\n",
    "### 🧮 4. Análisis estructural con `eacf()`"
   ]
  },
  {
   "cell_type": "code",
   "execution_count": 6,
   "metadata": {
    "scrolled": true
   },
   "outputs": [
    {
     "name": "stdout",
     "output_type": "stream",
     "text": [
      "AR/MA\n",
      "  0 1 2 3 4 5 6 7 8 9 10 11 12 13\n",
      "0 x o x o o o o o o o o  x  o  o \n",
      "1 o o x o o o o o x o o  x  o  o \n",
      "2 o x x o o o o o x o o  x  o  o \n",
      "3 x x o x o o o o o o o  x  o  o \n",
      "4 x x x x o o o o o o o  x  o  o \n",
      "5 x o x o o o o o o o o  x  o  o \n",
      "6 x x o o o o o o o o o  x  o  o \n",
      "7 x x o o o o o o o o o  x  o  o \n"
     ]
    }
   ],
   "source": [
    "eacf(diff2_log_ap)"
   ]
  },
  {
   "cell_type": "markdown",
   "metadata": {},
   "source": [
    "📌 **Preguntas:**\n",
    "- ¿Cómo debemos interpretar esta matriz?\n",
    "- ¿Nos muestra un único resultado o nos ofrece otras opciones?\n",
    "- ¿Cuál es la utilidad de este rewsultado?\n",
    "\n",
    "---\n",
    "\n",
    "### 🧪 Paso 5: Ajustar el modelo candidato manualmente"
   ]
  },
  {
   "cell_type": "code",
   "execution_count": 7,
   "metadata": {},
   "outputs": [],
   "source": [
    "m1 <- arima(log_ap,\n",
    "            order = c(1,1,1),\n",
    "            seasonal = list(order = c(0,1,1), period = 12))\n"
   ]
  },
  {
   "cell_type": "markdown",
   "metadata": {},
   "source": [
    "📌 **Preguntas:**\n",
    "- ¿Qué implican los resultados de este modelo?\n",
    "- ¿Basta con estos resultados o deberíamos probar otras combinaciones?\n",
    "- ¿Si es el caso, cómo podemos comparar de manera sencilla los modelos obtenidos?\n",
    "\n",
    "---\n",
    "\n",
    "### 🔍 Paso 6: Diagnóstico del modelo"
   ]
  },
  {
   "cell_type": "code",
   "execution_count": 8,
   "metadata": {},
   "outputs": [
    {
     "data": {
      "image/png": "[encoded data removed]",
      "text/plain": [
       "Plot with title \"p values for Ljung-Box statistic\""
      ]
     },
     "metadata": {
      "image/png": {
       "height": 420,
       "width": 420
      }
     },
     "output_type": "display_data"
    }
   ],
   "source": [
    "tsdiag(m1)"
   ]
  },
  {
   "cell_type": "markdown",
   "metadata": {},
   "source": [
    "📌 **Preguntas:**\n",
    "- ¿Cómo deberíamos interpretar cada gráfica?\n",
    "- ¿Es suficiente para considerar como bueno el modelo?\n",
    "- ¿Qué crees que deberíamos hacer si los resultados fueran diferentes?\n",
    "\n",
    "---\n",
    "\n",
    "📌 2. Prueba puntual de Ljung-Box a 24 rezagos"
   ]
  },
  {
   "cell_type": "code",
   "execution_count": 9,
   "metadata": {},
   "outputs": [
    {
     "data": {
      "text/plain": [
       "\n",
       "\tBox-Ljung test\n",
       "\n",
       "data:  residuals(m1)\n",
       "X-squared = 25.044, df = 24, p-value = 0.4034\n"
      ]
     },
     "metadata": {},
     "output_type": "display_data"
    }
   ],
   "source": [
    "Box.test(residuals(m1), lag = 24, type = \"Ljung-Box\")"
   ]
  },
  {
   "cell_type": "markdown",
   "metadata": {},
   "source": [
    "📌 **Preguntas:**\n",
    "- ¿Cómo debemos interpretar estos resultados?\n",
    "- ¿Es suficiente para seleccionar el modelo?\n",
    "- ¿Si aplicamos la prueba a los otros modelos posibles los resultados serán diferentes?\n",
    "\n",
    "---\n",
    "<h3>🔧 Sección 2: Automatización del ajuste y evaluación de modelos</h3>\n",
    "\n",
    "📌 **Automatización con `auto.arima()`**\n",
    "\n",
    "El ajuste automático de modelos ARIMA/SARIMA se ha convertido en una herramienta fundamental para el análisis de series de tiempo. En R, la función `auto.arima()` del paquete `forecast` permite seleccionar automáticamente los órdenes del modelo:  \n",
    "- **(p, d, q)**: parte no estacional.  \n",
    "- **(P, D, Q)**: parte estacional (si se activa `seasonal = TRUE`). "
   ]
  },
  {
   "cell_type": "code",
   "execution_count": 10,
   "metadata": {},
   "outputs": [
    {
     "data": {
      "text/plain": [
       "Series: log_ap \n",
       "ARIMA(0,1,1)(0,1,1)[12] \n",
       "\n",
       "Coefficients:\n",
       "          ma1     sma1\n",
       "      -0.4018  -0.5569\n",
       "s.e.   0.0896   0.0731\n",
       "\n",
       "sigma^2 = 0.001371:  log likelihood = 244.7\n",
       "AIC=-483.4   AICc=-483.21   BIC=-474.77"
      ]
     },
     "metadata": {},
     "output_type": "display_data"
    }
   ],
   "source": [
    "auto.arima(log_ap)"
   ]
  },
  {
   "cell_type": "markdown",
   "metadata": {},
   "source": [
    "📌 **Preguntas:**\n",
    "- ¿Cómo interpretarías los resultados?\n",
    "- ¿Crees que obtendrías algo diferente si se usan las otras transformaciones?\n",
    "- ¿Cuál transformación debería utilizar?\n",
    "- ¿Podría usar directamente la serie o debo transformarla?\n",
    "---\n",
    "<h3>🧪 Evaluación de modelos ARIMA/SARIMA</h3>\n",
    "\n",
    "Evaluar el desempeño de modelos ajustados nos permite **elegir el mejor modelo no solo por ajuste, sino también por parsimonia, comportamiento de residuos y capacidad predictiva**.\n",
    "\n",
    "<h4>🧮 Cálculo de métricas: AIC, AICc, BIC</h4>\n",
    "\n",
    "Comparamos dos modelos: el modelo manual (`m1`) y el automático (`ma`):"
   ]
  },
  {
   "cell_type": "code",
   "execution_count": 11,
   "metadata": {},
   "outputs": [
    {
     "name": "stderr",
     "output_type": "stream",
     "text": [
      "Warning message in trainingaccuracy(object, test, d, D):\n",
      "\"test elements must be within sample\"\n"
     ]
    },
    {
     "data": {
      "text/plain": [
       "\n",
       "Call:\n",
       "arima(x = log_ap, order = c(1, 1, 1), seasonal = list(order = c(0, 1, 1), period = 12))\n",
       "\n",
       "Coefficients:\n",
       "         ar1      ma1     sma1\n",
       "      0.1960  -0.5784  -0.5643\n",
       "s.e.  0.2475   0.2132   0.0747\n",
       "\n",
       "sigma^2 estimated as 0.001341:  log likelihood = 244.95,  aic = -483.9\n",
       "\n",
       "Training set error measures:\n",
       "              ME RMSE MAE MPE MAPE\n",
       "Training set NaN  NaN NaN NaN  NaN"
      ]
     },
     "metadata": {},
     "output_type": "display_data"
    }
   ],
   "source": [
    "summary(m1)"
   ]
  },
  {
   "cell_type": "code",
   "execution_count": 12,
   "metadata": {
    "scrolled": true
   },
   "outputs": [
    {
     "data": {
      "text/plain": [
       "Series: log_ap \n",
       "ARIMA(0,1,1)(0,1,1)[12] \n",
       "\n",
       "Coefficients:\n",
       "          ma1     sma1\n",
       "      -0.4018  -0.5569\n",
       "s.e.   0.0896   0.0731\n",
       "\n",
       "sigma^2 = 0.001371:  log likelihood = 244.7\n",
       "AIC=-483.4   AICc=-483.21   BIC=-474.77\n",
       "\n",
       "Training set error measures:\n",
       "                       ME       RMSE        MAE        MPE      MAPE      MASE\n",
       "Training set 0.0005730622 0.03504883 0.02626034 0.01098898 0.4752815 0.2169522\n",
       "                   ACF1\n",
       "Training set 0.01443892"
      ]
     },
     "metadata": {},
     "output_type": "display_data"
    }
   ],
   "source": [
    "ma <- auto.arima(log_ap)\n",
    "summary(ma)"
   ]
  },
  {
   "cell_type": "markdown",
   "metadata": {},
   "source": [
    "📌 **Preguntas:**\n",
    "- ¿Cómo interpretarías los resultados?\n",
    "- ¿Cuál modelo es más robusto?\n",
    "- ¿Por qué es más robusto?\n",
    "- ¿Qué hago si encuentro un modelo con mejor `AIC`que el automático, pero no muestra sus métricas completas?\n",
    "---\n",
    "<h4>🧪 Diagnóstico de los residuos</h3>"
   ]
  },
  {
   "cell_type": "code",
   "execution_count": 13,
   "metadata": {},
   "outputs": [
    {
     "name": "stdout",
     "output_type": "stream",
     "text": [
      "\n",
      "\tLjung-Box test\n",
      "\n",
      "data:  Residuals from ARIMA(1,1,1)(0,1,1)[12]\n",
      "Q* = 25.044, df = 21, p-value = 0.2453\n",
      "\n",
      "Model df: 3.   Total lags used: 24\n",
      "\n"
     ]
    },
    {
     "data": {
      "image/png": "[encoded data removed]",
      "text/plain": [
       "plot without title"
      ]
     },
     "metadata": {
      "image/png": {
       "height": 420,
       "width": 420
      }
     },
     "output_type": "display_data"
    }
   ],
   "source": [
    "library(forecast)\n",
    "\n",
    "# Diagnóstico gráfico del modelo manual\n",
    "checkresiduals(m1)"
   ]
  },
  {
   "cell_type": "markdown",
   "metadata": {},
   "source": [
    "📌 **Preguntas:**\n",
    "\n",
    "- ¿Cuál es la interpretación que debo dar a estos resultados?\n",
    "- ¿Eso significa que el modelo es un buen modelo?\n",
    "- Si los resultados no son favorables, pero no tengo más modelos posibles ¿Qué debería hacer?\n",
    "---\n",
    "<h3> 3. 🔮 Proyección y visualización de pronósticos</h3>\n",
    "\n",
    "Una vez validado el modelo, se procede a generar los pronósticos y visualizarlos junto con la serie observada.\n",
    "\n",
    "🛠 Paso 1: Definir el modelo (si no está hecho). Como ya sabemos el modelo automático es el más eficiente."
   ]
  },
  {
   "cell_type": "code",
   "execution_count": 14,
   "metadata": {},
   "outputs": [],
   "source": [
    "# ma <- aiuto.arima(log_ap)"
   ]
  },
  {
   "cell_type": "markdown",
   "metadata": {},
   "source": [
    "🛠 Paso 2: Proyectar hacia el futuro"
   ]
  },
  {
   "cell_type": "code",
   "execution_count": 15,
   "metadata": {},
   "outputs": [],
   "source": [
    "library(forecast)\n",
    "\n",
    "# Generar pronóstico para 24 meses (2 años)\n",
    "pronostico <- forecast(ma, h = 24)"
   ]
  },
  {
   "cell_type": "markdown",
   "metadata": {},
   "source": [
    "🛠 Paso 3: Visualizar resultados con intervalos"
   ]
  },
  {
   "cell_type": "code",
   "execution_count": 16,
   "metadata": {},
   "outputs": [
    {
     "data": {
      "image/png": "[encoded data removed]",
      "text/plain": [
       "plot without title"
      ]
     },
     "metadata": {
      "image/png": {
       "height": 420,
       "width": 420
      }
     },
     "output_type": "display_data"
    }
   ],
   "source": [
    "autoplot(pronostico) +\n",
    "  labs(\n",
    "    title = \"Proyección ARIMA(0,1,1)(0,1,1)[12] sobre log(AirPassengers)\",\n",
    "    x = \"Fecha\", y = \"log(Pasajeros)\",\n",
    "    caption = \"Incluye intervalos de predicción al 80% y 95%\"\n",
    "  ) +\n",
    "  theme_minimal()"
   ]
  },
  {
   "cell_type": "markdown",
   "metadata": {},
   "source": [
    "📌 **Preguntas:**\n",
    "\n",
    "- El modelo tiene transformación logarítmica ¿Son estos resultados equivalentes a la serie original?\n",
    "- ¿Qué debo hacer si quiero proyectar la serie original?\n",
    "- ¿Y si lo hago con el modelo automático para la serie sin transformar?\n",
    "\n",
    "---\n",
    "\n",
    "<h3>✅ Cierre del taller</h3>\n",
    "\n",
    "📌 Este taller ha permitido explorar paso a paso:\n",
    "\n",
    "- La **selección manual** del modelo.\n",
    "- La **selección automática** del modelo.\n",
    "- La selección del **modelo adecuado**.\n",
    "- El diagnóstico del modelo seleccionado\n",
    "\n",
    "> En el siguiente bloque se realizará la evaluación práctica del modelo mediante las métricas de diagnóstico y el método de validación cruzada."
   ]
  }
 ],
 "metadata": {
  "kernelspec": {
   "display_name": "R",
   "language": "R",
   "name": "ir"
  },
  "language_info": {
   "codemirror_mode": "r",
   "file_extension": ".r",
   "mimetype": "text/x-r-source",
   "name": "R",
   "pygments_lexer": "r",
   "version": "4.5.0"
  }
 },
 "nbformat": 4,
 "nbformat_minor": 2
}
